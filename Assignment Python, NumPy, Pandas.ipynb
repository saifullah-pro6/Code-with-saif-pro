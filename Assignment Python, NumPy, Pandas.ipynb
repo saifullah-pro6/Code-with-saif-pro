{
 "cells": [
  {
   "cell_type": "markdown",
   "id": "b04fd5f9",
   "metadata": {},
   "source": [
    "### Assignment by Saifullah"
   ]
  },
  {
   "cell_type": "markdown",
   "id": "83d2e562",
   "metadata": {},
   "source": [
    "#  03-Assignment on NumPy.ipynb"
   ]
  },
  {
   "cell_type": "markdown",
   "id": "428decf5",
   "metadata": {},
   "source": [
    "## Learning agenda of this notebook\n",
    "Reading Data from Files\\\n",
    "Reading data from text files\\\n",
    "Reading data from csv files\\\n",
    "Writing data to files"
   ]
  },
  {
   "cell_type": "markdown",
   "id": "2cb29b72",
   "metadata": {},
   "source": [
    "# Questions for Revision\n"
   ]
  },
  {
   "cell_type": "markdown",
   "id": "52adf64a",
   "metadata": {},
   "source": [
    "."
   ]
  },
  {
   "cell_type": "markdown",
   "id": "b4dddf37",
   "metadata": {},
   "source": [
    "### 1) What is a vector?\n",
    "\n",
    "Vector is a quantity that have magnitude and direction."
   ]
  },
  {
   "cell_type": "markdown",
   "id": "ea3b7225",
   "metadata": {},
   "source": [
    "### 2) How do you represent vectors using a Python list? Give an example.\n"
   ]
  },
  {
   "cell_type": "code",
   "execution_count": 73,
   "id": "98f28692",
   "metadata": {},
   "outputs": [
    {
     "name": "stdout",
     "output_type": "stream",
     "text": [
      "[23 24 25 27]\n"
     ]
    }
   ],
   "source": [
    "import numpy as np\n",
    "# we creating a vector from list\n",
    "\n",
    "list1 = [23,24,25,27]\n",
    "\n",
    "vector = np.array(list1)\n",
    "print(vector)\n"
   ]
  },
  {
   "cell_type": "markdown",
   "id": "d440d496",
   "metadata": {},
   "source": [
    "."
   ]
  },
  {
   "cell_type": "markdown",
   "id": "fca2a630",
   "metadata": {},
   "source": [
    "### 3) What is a dot product of two vectors?\n",
    "\n",
    "The dot product also called a scaller product and its measure the distance between two vectors align"
   ]
  },
  {
   "cell_type": "markdown",
   "id": "40e920cf",
   "metadata": {},
   "source": [
    "."
   ]
  },
  {
   "cell_type": "markdown",
   "id": "ea5ac3b0",
   "metadata": {},
   "source": [
    "### 4) Write a function to compute the dot product of two vectors."
   ]
  },
  {
   "cell_type": "code",
   "execution_count": 74,
   "id": "f96a70a7",
   "metadata": {},
   "outputs": [
    {
     "name": "stdout",
     "output_type": "stream",
     "text": [
      "204\n"
     ]
    }
   ],
   "source": [
    "# Python Program illustrating\n",
    "# dot product of two vectors\n",
    " \n",
    "# Importing numpy module\n",
    "import numpy as np\n",
    " \n",
    "# Taking two scalar values\n",
    "scaler1 = 51\n",
    "scaler2 = 4\n",
    " \n",
    "# Calculating dot product using dot()\n",
    "print(np.dot(scaler1,scaler2))"
   ]
  },
  {
   "cell_type": "markdown",
   "id": "6b4e5651",
   "metadata": {},
   "source": [
    "."
   ]
  },
  {
   "cell_type": "markdown",
   "id": "1d2caeff",
   "metadata": {},
   "source": [
    "### 5) what is numpy?\n",
    "\n",
    "Numpy is a library of python. Its is very important library of python this library is use for cheak array's and dimension,size and more."
   ]
  },
  {
   "cell_type": "markdown",
   "id": "3a1ae6ec",
   "metadata": {},
   "source": [
    "### 6) How do you install Numpy?\n",
    "\n",
    "1. Cheak the !sys_executable { install numpy}\n",
    "2. And second or easy method is using pip command like this\\\n",
    "\"  !pip install numpy \""
   ]
  },
  {
   "cell_type": "markdown",
   "id": "8d87a095",
   "metadata": {},
   "source": [
    "###  7) How do you import the numpy module?\n",
    "\n",
    "To import the numpy module without their alias\\\n",
    "\" **import numpy** \""
   ]
  },
  {
   "cell_type": "markdown",
   "id": "3ed7095b",
   "metadata": {},
   "source": [
    "### 8) What does it mean to import a module with an alias? Give an example.\n",
    "\n",
    "\n",
    "Import aliases are where you take your standard import, but instead of using a pre-defined name by the exporting module, you use a name that is defined in the importing module.\\\n",
    "\" **import numpy as np** \""
   ]
  },
  {
   "cell_type": "markdown",
   "id": "88b75336",
   "metadata": {},
   "source": [
    "### 9) What is the commonly used alias for numpy?\n",
    "\n",
    "The commonly used alias for Numpy is **np**."
   ]
  },
  {
   "cell_type": "markdown",
   "id": "ff83eb66",
   "metadata": {},
   "source": [
    "### 10) What is a Numpy array?\n",
    "\n",
    "A numpy array is a grid of values, all of the same type, and is indexed by a tuple of nonnegative integers."
   ]
  },
  {
   "cell_type": "markdown",
   "id": "ec65704e",
   "metadata": {},
   "source": [
    "### 11) How do you create a Numpy array? Give an example."
   ]
  },
  {
   "cell_type": "code",
   "execution_count": 75,
   "id": "621b0753",
   "metadata": {},
   "outputs": [
    {
     "name": "stdout",
     "output_type": "stream",
     "text": [
      "saif,Fasih,inayat\n"
     ]
    }
   ],
   "source": [
    "# first import numpy library\n",
    "\n",
    "import numpy as np\n",
    "\n",
    "array = ('saif,Fasih,inayat')\n",
    "arr1= np.array(array)\n",
    "print (arr1)"
   ]
  },
  {
   "cell_type": "markdown",
   "id": "0a0fb22e",
   "metadata": {},
   "source": [
    "."
   ]
  },
  {
   "cell_type": "markdown",
   "id": "9dc2537b",
   "metadata": {},
   "source": [
    "###  12) What is the type of Numpy arrays?\n",
    "\n",
    "booleans (bool), integers (int), unsigned integers (uint) floating point (float) and complex."
   ]
  },
  {
   "cell_type": "markdown",
   "id": "6186275f",
   "metadata": {},
   "source": [
    "### 13) How do you access the elements of a Numpy array?"
   ]
  },
  {
   "cell_type": "code",
   "execution_count": 76,
   "id": "5f220f42",
   "metadata": {},
   "outputs": [
    {
     "name": "stdout",
     "output_type": "stream",
     "text": [
      "[23 24 27]\n",
      "27\n"
     ]
    }
   ],
   "source": [
    "# import numpy \n",
    "import numpy as np\n",
    "\n",
    "array2= np.array([23,24,27])\n",
    "# print for all array\n",
    "print (array2)\n",
    "\n",
    "# print element of array\n",
    "print (array2[2])\n",
    "# elemnt number is start wit 0 that's why array 2 element print third value\n"
   ]
  },
  {
   "cell_type": "code",
   "execution_count": 77,
   "id": "5dbfa3d5",
   "metadata": {},
   "outputs": [
    {
     "name": "stdout",
     "output_type": "stream",
     "text": [
      "2nd element on 1st row:  2\n"
     ]
    }
   ],
   "source": [
    "import numpy as np\n",
    "\n",
    "arr = np.array([[1,2,3,4,5], [6,7,8,9,10]])\n",
    "\n",
    "print('2nd element on 1st row: ', arr[0, 1])"
   ]
  },
  {
   "cell_type": "code",
   "execution_count": 78,
   "id": "3809b9e7",
   "metadata": {},
   "outputs": [
    {
     "name": "stdout",
     "output_type": "stream",
     "text": [
      "6\n"
     ]
    }
   ],
   "source": [
    "import numpy as np\n",
    "\n",
    "arr = np.array([[[1, 2, 3], [4, 5, 6]], [[7, 8, 9], [10, 11, 12]]])\n",
    "\n",
    "print(arr[0, 1, 2])"
   ]
  },
  {
   "cell_type": "markdown",
   "id": "7403b1d2",
   "metadata": {},
   "source": [
    "### 14) How do you compute the dot product of two vectors using Numpy?"
   ]
  },
  {
   "cell_type": "code",
   "execution_count": 79,
   "id": "0a7151dd",
   "metadata": {},
   "outputs": [
    {
     "name": "stdout",
     "output_type": "stream",
     "text": [
      "Array1...\n",
      " [2.+3.j 5.+6.j]\n",
      "\n",
      "Array2...\n",
      " [ 9.+10.j 11.+12.j]\n",
      "\n",
      "Dimensions of Array1...\n",
      " 1\n",
      "\n",
      "Dimensions of Array2...\n",
      " 1\n",
      "\n",
      "Shape of Array1...\n",
      " (2,)\n",
      "\n",
      "Shape of Array2...\n",
      " (2,)\n",
      "\n",
      "Result...\n",
      " (175-13j)\n"
     ]
    }
   ],
   "source": [
    "import numpy as np\n",
    "\n",
    "# Creating two numpy One-Dimensional array using the array() method\n",
    "arr1 = np.array([2+3j,5+6j])\n",
    "arr2 = np.array([9+10j,11+12j])\n",
    "\n",
    "# Display the arrays\n",
    "print(\"Array1...\\n\",arr1)\n",
    "print(\"\\nArray2...\\n\",arr2)\n",
    "\n",
    "# Check the Dimensions of both the arrays\n",
    "print(\"\\nDimensions of Array1...\\n\",arr1.ndim)\n",
    "print(\"\\nDimensions of Array2...\\n\",arr2.ndim)\n",
    "\n",
    "# Check the Shape of both the arrays\n",
    "print(\"\\nShape of Array1...\\n\",arr1.shape)\n",
    "print(\"\\nShape of Array2...\\n\",arr2.shape)\n",
    "\n",
    "# To return the dot product of two vectors, use the numpy.vdot() method in Python.\n",
    "print(\"\\nResult...\\n\",np.vdot(arr1, arr2))"
   ]
  },
  {
   "cell_type": "markdown",
   "id": "c91d01c0",
   "metadata": {},
   "source": [
    "."
   ]
  },
  {
   "cell_type": "markdown",
   "id": "dcd9ff73",
   "metadata": {},
   "source": [
    "### 15) What happens if you try to compute the dot product of two vectors which have different sizes?\n",
    "\n",
    "The dot product is applicable only for the pairs of vectors that have the same number of dimensions."
   ]
  },
  {
   "cell_type": "markdown",
   "id": "1b08021f",
   "metadata": {},
   "source": [
    "### 16) How do you compute the element-wise product of two Numpy arrays?"
   ]
  },
  {
   "cell_type": "code",
   "execution_count": 80,
   "id": "3b6dce2a",
   "metadata": {},
   "outputs": [
    {
     "name": "stdout",
     "output_type": "stream",
     "text": [
      "num1: 5\n",
      "num2: 4\n",
      "Ans: 20\n"
     ]
    }
   ],
   "source": [
    "import numpy as np\n",
    "num1= 5\n",
    "num2= 4\n",
    "\n",
    "print ('num1:',num1)\n",
    "print ('num2:',num2)\n",
    "print ('Ans:',num1*num2)\n"
   ]
  },
  {
   "cell_type": "markdown",
   "id": "f008a1a0",
   "metadata": {},
   "source": [
    "### 17) How do you compute the sum of all the elements in a Numpy array?"
   ]
  },
  {
   "cell_type": "code",
   "execution_count": 81,
   "id": "0605c37d",
   "metadata": {},
   "outputs": [
    {
     "name": "stdout",
     "output_type": "stream",
     "text": [
      "num3: 5\n",
      "num4: 4\n",
      "Ans: 9\n"
     ]
    }
   ],
   "source": [
    "import numpy as np\n",
    "num3= 5\n",
    "num4= 4\n",
    "\n",
    "print ('num3:',num3)\n",
    "print ('num4:',num4)\n",
    "print ('Ans:',num1+num2)"
   ]
  },
  {
   "cell_type": "code",
   "execution_count": 82,
   "id": "4f4e152a",
   "metadata": {},
   "outputs": [
    {
     "name": "stdout",
     "output_type": "stream",
     "text": [
      "Original array:\n",
      "[[0 1]\n",
      " [2 3]]\n",
      "Sum of all elements:\n",
      "6\n"
     ]
    }
   ],
   "source": [
    "# Example for learning perpose\n",
    "\n",
    "import numpy as np\n",
    "x = np.array([[0,1],[2,3]])\n",
    "print(\"Original array:\")\n",
    "print(x)\n",
    "print(\"Sum of all elements:\")\n",
    "print(np.sum(x))"
   ]
  },
  {
   "cell_type": "markdown",
   "id": "ff6c9223",
   "metadata": {},
   "source": [
    "### 18) What are the benefits of using Numpy arrays over Python lists for operating on numerical data?\n",
    "\n",
    "NumPy arrays are faster than Python lists. And easy to handle.\n"
   ]
  },
  {
   "cell_type": "markdown",
   "id": "6823fbac",
   "metadata": {},
   "source": [
    "### 19) Why do Numpy array operations have better performance compared to Python functions and loops?\n",
    "\n",
    "A Python list, however, is only a collection of objects. A NumPy array allows only homogeneous data types."
   ]
  },
  {
   "cell_type": "markdown",
   "id": "dfb0baf5",
   "metadata": {},
   "source": [
    "### 20) Illustrate the performance difference between Numpy array operations and Python loops using an example."
   ]
  },
  {
   "cell_type": "code",
   "execution_count": 83,
   "id": "5a5a557f",
   "metadata": {},
   "outputs": [
    {
     "name": "stdout",
     "output_type": "stream",
     "text": [
      "Size of each element of list in bytes:  48\n",
      "Size of the whole list in bytes:  240000\n",
      "Size of each element of the Numpy array in bytes:  4\n",
      "Size of the whole Numpy array in bytes:  20000\n"
     ]
    }
   ],
   "source": [
    "# importing numpy package\n",
    "import numpy as np\n",
    " \n",
    "# importing system module\n",
    "import sys\n",
    " \n",
    "# declaring a list of 5000 elements\n",
    "S= range(5000)\n",
    " \n",
    "# printing size of each element of the list\n",
    "print(\"Size of each element of list in bytes: \",sys.getsizeof(S))\n",
    " \n",
    "# printing size of the whole list\n",
    "print(\"Size of the whole list in bytes: \",sys.getsizeof(S)*len(S))\n",
    " \n",
    "# declaring a Numpy array of 5000 elements\n",
    "D= np.arange(5000)\n",
    " \n",
    "# printing size of each element of the Numpy array\n",
    "print(\"Size of each element of the Numpy array in bytes: \",D.itemsize)\n",
    " \n",
    "# printing size of the whole Numpy array\n",
    "print(\"Size of the whole Numpy array in bytes: \",D.size*D.itemsize)"
   ]
  },
  {
   "cell_type": "markdown",
   "id": "abca65e3",
   "metadata": {},
   "source": [
    "### 21) What are multi-dimensional Numpy arrays?\n",
    "\n",
    "A multi-dimensional array is an array with more than one level or dimension."
   ]
  },
  {
   "cell_type": "markdown",
   "id": "1147139b",
   "metadata": {},
   "source": [
    "### 22) Illustrate the creation of Numpy arrays with 2, 3, and 4 dimensions."
   ]
  },
  {
   "cell_type": "code",
   "execution_count": 84,
   "id": "c688f47f",
   "metadata": {},
   "outputs": [
    {
     "name": "stdout",
     "output_type": "stream",
     "text": [
      "[[1 2 3]\n",
      " [4 5 6]]\n",
      "number of dimensions : 2\n"
     ]
    }
   ],
   "source": [
    "import numpy as np\n",
    "\n",
    "arr = np.array([[1, 2, 3], [4, 5, 6]])\n",
    "\n",
    "print(arr)\n",
    "print('number of dimensions :', arr.ndim)"
   ]
  },
  {
   "cell_type": "code",
   "execution_count": 85,
   "id": "b4b662e9",
   "metadata": {},
   "outputs": [
    {
     "name": "stdout",
     "output_type": "stream",
     "text": [
      "[[[1 2 3]\n",
      "  [4 5 6]]\n",
      "\n",
      " [[1 2 3]\n",
      "  [4 5 6]]]\n",
      "number of dimensions : 3\n"
     ]
    }
   ],
   "source": [
    "import numpy as np\n",
    "\n",
    "arr = np.array([[[1, 2, 3], [4, 5, 6]], [[1, 2, 3], [4, 5, 6]]])\n",
    "\n",
    "print(arr)\n",
    "print('number of dimensions :', arr.ndim)"
   ]
  },
  {
   "cell_type": "code",
   "execution_count": 86,
   "id": "9842558d",
   "metadata": {},
   "outputs": [
    {
     "name": "stdout",
     "output_type": "stream",
     "text": [
      "[[[[1 2 3 4]]]]\n",
      "number of dimensions : 4\n"
     ]
    }
   ],
   "source": [
    "import numpy as np\n",
    "\n",
    "arr = np.array([1, 2, 3, 4], ndmin=4)\n",
    "\n",
    "print(arr)\n",
    "print('number of dimensions :', arr.ndim)"
   ]
  },
  {
   "cell_type": "markdown",
   "id": "74445355",
   "metadata": {},
   "source": [
    "### 23) How do you inspect the number of dimensions and the length along each dimension in a Numpy array?"
   ]
  },
  {
   "cell_type": "code",
   "execution_count": 87,
   "id": "ac565d51",
   "metadata": {},
   "outputs": [
    {
     "name": "stdout",
     "output_type": "stream",
     "text": [
      "[[[[[1 2 3 4]]]]]\n",
      "number of dimensions : 5\n",
      "Dimensions in arr are:  5\n"
     ]
    }
   ],
   "source": [
    "import numpy as np\n",
    "\n",
    "arr = np.array([1, 2, 3, 4], ndmin=5)\n",
    "\n",
    "print(arr)\n",
    "print('number of dimensions :', arr.ndim)\n",
    "print(\"Dimensions in arr are: \", len(arr.shape))"
   ]
  },
  {
   "cell_type": "markdown",
   "id": "e9704f43",
   "metadata": {},
   "source": [
    "### 24) Can the elements of a Numpy array have different data types?\n",
    "\n",
    "No The elements of a NumPy array must all be of the same type"
   ]
  },
  {
   "cell_type": "markdown",
   "id": "77d6b157",
   "metadata": {},
   "source": [
    "### 25) How do you check the data type of the elements of a Numpy array?"
   ]
  },
  {
   "cell_type": "code",
   "execution_count": 88,
   "id": "31d5c6c4",
   "metadata": {},
   "outputs": [
    {
     "name": "stdout",
     "output_type": "stream",
     "text": [
      "Data type: int32\n"
     ]
    }
   ],
   "source": [
    "import numpy as np\n",
    "\n",
    "arr = np.array([1, 2, 3, 4], ndmin=5)\n",
    "\n",
    "print(\"Data type:\",arr.dtype)"
   ]
  },
  {
   "cell_type": "markdown",
   "id": "144d1f6f",
   "metadata": {},
   "source": [
    "### 26) What is the data type of a Numpy array?\n",
    "\n",
    "Here's the list of most commonly used numeric data types in **NumPy: int8 , int16 , int32 , int64 - signed integer types with different bit sizes**."
   ]
  },
  {
   "cell_type": "markdown",
   "id": "d83f260e",
   "metadata": {},
   "source": [
    "### 27) What is the difference between a matrix and a 2D Numpy array?\n",
    "\n",
    "Numpy arrays (nd-arrays) are N-dimensional where, N=1,2,3… Numpy matrices are strictly 2-dimensional."
   ]
  },
  {
   "cell_type": "markdown",
   "id": "45be655a",
   "metadata": {},
   "source": [
    "### 28) How do you perform matrix multiplication using Numpy?"
   ]
  },
  {
   "cell_type": "code",
   "execution_count": 89,
   "id": "80bf3a92",
   "metadata": {},
   "outputs": [
    {
     "name": "stdout",
     "output_type": "stream",
     "text": [
      "[[28 35]\n",
      " [42 49]]\n"
     ]
    }
   ],
   "source": [
    "import numpy as np\n",
    "\n",
    "A = 7\n",
    "\n",
    "B = [[4, 5],\n",
    "      [6, 7]]\n",
    " \n",
    "print(np.dot(A,B))"
   ]
  },
  {
   "cell_type": "markdown",
   "id": "a4e1b308",
   "metadata": {},
   "source": [
    "### 29) What is the @ operator used for in Numpy?\n",
    "\n",
    "The @ operator, available since Python 3.5, can be used for conventional matrix multiplication."
   ]
  },
  {
   "cell_type": "markdown",
   "id": "8613000b",
   "metadata": {},
   "source": [
    "### 30) What is the CSV file format?\n",
    "\n",
    "A CSV file is a spreadsheet format, so it can be opened by spreadsheet applications like Microsoft Excel and Google Spreadsheets. Since CSV files are used to exchange large volumes of data, database programs, analytical software, and applications that can store massive amounts of information usually support the CSV."
   ]
  },
  {
   "cell_type": "markdown",
   "id": "fd627235",
   "metadata": {},
   "source": [
    "### 31) How do you read data from a CSV file using Numpy?"
   ]
  },
  {
   "cell_type": "code",
   "execution_count": 90,
   "id": "ebc9bcc6",
   "metadata": {},
   "outputs": [
    {
     "ename": "FileNotFoundError",
     "evalue": "sample_data.csv not found.",
     "output_type": "error",
     "traceback": [
      "\u001b[1;31m---------------------------------------------------------------------------\u001b[0m",
      "\u001b[1;31mFileNotFoundError\u001b[0m                         Traceback (most recent call last)",
      "Cell \u001b[1;32mIn[90], line 4\u001b[0m\n\u001b[0;32m      1\u001b[0m \u001b[38;5;28;01mimport\u001b[39;00m \u001b[38;5;21;01mnumpy\u001b[39;00m \u001b[38;5;28;01mas\u001b[39;00m \u001b[38;5;21;01mnp\u001b[39;00m\n\u001b[0;32m      3\u001b[0m \u001b[38;5;66;03m# using loadtxt()\u001b[39;00m\n\u001b[1;32m----> 4\u001b[0m arr \u001b[38;5;241m=\u001b[39m np\u001b[38;5;241m.\u001b[39mloadtxt(\u001b[38;5;124m\"\u001b[39m\u001b[38;5;124msample_data.csv\u001b[39m\u001b[38;5;124m\"\u001b[39m,\n\u001b[0;32m      5\u001b[0m                  delimiter\u001b[38;5;241m=\u001b[39m\u001b[38;5;124m\"\u001b[39m\u001b[38;5;124m,\u001b[39m\u001b[38;5;124m\"\u001b[39m, dtype\u001b[38;5;241m=\u001b[39m\u001b[38;5;28mstr\u001b[39m)\n\u001b[0;32m      6\u001b[0m display(arr)\n",
      "File \u001b[1;32mF:\\Anaconda\\Lib\\site-packages\\numpy\\lib\\npyio.py:1356\u001b[0m, in \u001b[0;36mloadtxt\u001b[1;34m(fname, dtype, comments, delimiter, converters, skiprows, usecols, unpack, ndmin, encoding, max_rows, quotechar, like)\u001b[0m\n\u001b[0;32m   1353\u001b[0m \u001b[38;5;28;01mif\u001b[39;00m \u001b[38;5;28misinstance\u001b[39m(delimiter, \u001b[38;5;28mbytes\u001b[39m):\n\u001b[0;32m   1354\u001b[0m     delimiter \u001b[38;5;241m=\u001b[39m delimiter\u001b[38;5;241m.\u001b[39mdecode(\u001b[38;5;124m'\u001b[39m\u001b[38;5;124mlatin1\u001b[39m\u001b[38;5;124m'\u001b[39m)\n\u001b[1;32m-> 1356\u001b[0m arr \u001b[38;5;241m=\u001b[39m _read(fname, dtype\u001b[38;5;241m=\u001b[39mdtype, comment\u001b[38;5;241m=\u001b[39mcomment, delimiter\u001b[38;5;241m=\u001b[39mdelimiter,\n\u001b[0;32m   1357\u001b[0m             converters\u001b[38;5;241m=\u001b[39mconverters, skiplines\u001b[38;5;241m=\u001b[39mskiprows, usecols\u001b[38;5;241m=\u001b[39musecols,\n\u001b[0;32m   1358\u001b[0m             unpack\u001b[38;5;241m=\u001b[39munpack, ndmin\u001b[38;5;241m=\u001b[39mndmin, encoding\u001b[38;5;241m=\u001b[39mencoding,\n\u001b[0;32m   1359\u001b[0m             max_rows\u001b[38;5;241m=\u001b[39mmax_rows, quote\u001b[38;5;241m=\u001b[39mquotechar)\n\u001b[0;32m   1361\u001b[0m \u001b[38;5;28;01mreturn\u001b[39;00m arr\n",
      "File \u001b[1;32mF:\\Anaconda\\Lib\\site-packages\\numpy\\lib\\npyio.py:975\u001b[0m, in \u001b[0;36m_read\u001b[1;34m(fname, delimiter, comment, quote, imaginary_unit, usecols, skiplines, max_rows, converters, ndmin, unpack, dtype, encoding)\u001b[0m\n\u001b[0;32m    973\u001b[0m     fname \u001b[38;5;241m=\u001b[39m os\u001b[38;5;241m.\u001b[39mfspath(fname)\n\u001b[0;32m    974\u001b[0m \u001b[38;5;28;01mif\u001b[39;00m \u001b[38;5;28misinstance\u001b[39m(fname, \u001b[38;5;28mstr\u001b[39m):\n\u001b[1;32m--> 975\u001b[0m     fh \u001b[38;5;241m=\u001b[39m np\u001b[38;5;241m.\u001b[39mlib\u001b[38;5;241m.\u001b[39m_datasource\u001b[38;5;241m.\u001b[39mopen(fname, \u001b[38;5;124m'\u001b[39m\u001b[38;5;124mrt\u001b[39m\u001b[38;5;124m'\u001b[39m, encoding\u001b[38;5;241m=\u001b[39mencoding)\n\u001b[0;32m    976\u001b[0m     \u001b[38;5;28;01mif\u001b[39;00m encoding \u001b[38;5;129;01mis\u001b[39;00m \u001b[38;5;28;01mNone\u001b[39;00m:\n\u001b[0;32m    977\u001b[0m         encoding \u001b[38;5;241m=\u001b[39m \u001b[38;5;28mgetattr\u001b[39m(fh, \u001b[38;5;124m'\u001b[39m\u001b[38;5;124mencoding\u001b[39m\u001b[38;5;124m'\u001b[39m, \u001b[38;5;124m'\u001b[39m\u001b[38;5;124mlatin1\u001b[39m\u001b[38;5;124m'\u001b[39m)\n",
      "File \u001b[1;32mF:\\Anaconda\\Lib\\site-packages\\numpy\\lib\\_datasource.py:193\u001b[0m, in \u001b[0;36mopen\u001b[1;34m(path, mode, destpath, encoding, newline)\u001b[0m\n\u001b[0;32m    156\u001b[0m \u001b[38;5;250m\u001b[39m\u001b[38;5;124;03m\"\"\"\u001b[39;00m\n\u001b[0;32m    157\u001b[0m \u001b[38;5;124;03mOpen `path` with `mode` and return the file object.\u001b[39;00m\n\u001b[0;32m    158\u001b[0m \n\u001b[1;32m   (...)\u001b[0m\n\u001b[0;32m    189\u001b[0m \n\u001b[0;32m    190\u001b[0m \u001b[38;5;124;03m\"\"\"\u001b[39;00m\n\u001b[0;32m    192\u001b[0m ds \u001b[38;5;241m=\u001b[39m DataSource(destpath)\n\u001b[1;32m--> 193\u001b[0m \u001b[38;5;28;01mreturn\u001b[39;00m ds\u001b[38;5;241m.\u001b[39mopen(path, mode, encoding\u001b[38;5;241m=\u001b[39mencoding, newline\u001b[38;5;241m=\u001b[39mnewline)\n",
      "File \u001b[1;32mF:\\Anaconda\\Lib\\site-packages\\numpy\\lib\\_datasource.py:533\u001b[0m, in \u001b[0;36mDataSource.open\u001b[1;34m(self, path, mode, encoding, newline)\u001b[0m\n\u001b[0;32m    530\u001b[0m     \u001b[38;5;28;01mreturn\u001b[39;00m _file_openers[ext](found, mode\u001b[38;5;241m=\u001b[39mmode,\n\u001b[0;32m    531\u001b[0m                               encoding\u001b[38;5;241m=\u001b[39mencoding, newline\u001b[38;5;241m=\u001b[39mnewline)\n\u001b[0;32m    532\u001b[0m \u001b[38;5;28;01melse\u001b[39;00m:\n\u001b[1;32m--> 533\u001b[0m     \u001b[38;5;28;01mraise\u001b[39;00m \u001b[38;5;167;01mFileNotFoundError\u001b[39;00m(\u001b[38;5;124mf\u001b[39m\u001b[38;5;124m\"\u001b[39m\u001b[38;5;132;01m{\u001b[39;00mpath\u001b[38;5;132;01m}\u001b[39;00m\u001b[38;5;124m not found.\u001b[39m\u001b[38;5;124m\"\u001b[39m)\n",
      "\u001b[1;31mFileNotFoundError\u001b[0m: sample_data.csv not found."
     ]
    }
   ],
   "source": [
    "import numpy as np\n",
    " \n",
    "# using loadtxt()\n",
    "arr = np.loadtxt(\"sample_data.csv\",\n",
    "                 delimiter=\",\", dtype=str)\n",
    "display(arr)"
   ]
  },
  {
   "cell_type": "code",
   "execution_count": null,
   "id": "a1ba25b0",
   "metadata": {},
   "outputs": [],
   "source": [
    "import numpy as np\n",
    " \n",
    "# using genfromtxt()\n",
    "arr = np.genfromtxt(\"sample_data.csv\",\n",
    "                    delimiter=\",\", dtype=str)\n",
    "display(arr)"
   ]
  },
  {
   "cell_type": "code",
   "execution_count": null,
   "id": "0b923adc",
   "metadata": {},
   "outputs": [],
   "source": [
    "import numpy as np\n",
    " \n",
    "# using read()\n",
    "arr = np.read_csv(\"sample_data.csv\")\n",
    "display(arr)"
   ]
  },
  {
   "cell_type": "markdown",
   "id": "cf7178e0",
   "metadata": {},
   "source": [
    "."
   ]
  },
  {
   "cell_type": "markdown",
   "id": "602fc036",
   "metadata": {},
   "source": [
    "### 32) How do you concatenate two Numpy arrays?"
   ]
  },
  {
   "cell_type": "code",
   "execution_count": null,
   "id": "3c51ba22",
   "metadata": {},
   "outputs": [],
   "source": [
    "import numpy as np\n",
    "\n",
    "# Creating two 2D arrays\n",
    "array1 = np.array([[1, 2, 3],\n",
    "                  [4, 5, 6]])                   \n",
    "array2 = np.array([[7, 8, 9],\n",
    "                  [10, 11, 12]])\n",
    "\n",
    "# Using numpy.dstack() function\n",
    "# Concatenate 2D arrays along the depth axis\n",
    "result = np.dstack((array1, array2))\n",
    "print(\"After concatenated arrays along depth:\\n\", result)"
   ]
  },
  {
   "cell_type": "markdown",
   "id": "d14b0916",
   "metadata": {},
   "source": [
    "### 33) What is the purpose of the axis argument of np.concatenate?\n",
    "\n",
    "Numpy concatenate is like “stacking” numpy arrays"
   ]
  },
  {
   "cell_type": "markdown",
   "id": "1daa6ca5",
   "metadata": {},
   "source": [
    "### 34) When are two Numpy arrays compatible for concatenation?\n",
    "\n",
    "The arrays must have the same shape, except in the dimension corresponding to axis."
   ]
  },
  {
   "cell_type": "markdown",
   "id": "8e37b35c",
   "metadata": {},
   "source": [
    "### 35) Give an example of two Numpy arrays that can be concatenated."
   ]
  },
  {
   "cell_type": "code",
   "execution_count": null,
   "id": "565e54dd",
   "metadata": {},
   "outputs": [],
   "source": [
    "a = np.array([[1, 2], [3, 4]])\n",
    "b = np.array([[5, 6]])\n",
    "np.concatenate((a, b), axis=0)\n",
    "np.array([[1, 2],\n",
    "       [3, 4],\n",
    "       [5, 6]])"
   ]
  },
  {
   "cell_type": "code",
   "execution_count": null,
   "id": "3ced65cd",
   "metadata": {},
   "outputs": [],
   "source": [
    "np.concatenate((a, b.T), axis=1)\n",
    "np.array([[1, 2, 5],\n",
    "       [3, 4, 6]])"
   ]
  },
  {
   "cell_type": "code",
   "execution_count": null,
   "id": "4041e6e8",
   "metadata": {},
   "outputs": [],
   "source": [
    "np.concatenate((a, b), axis=None)\n",
    "np.array([1, 2, 3, 4, 5, 6])"
   ]
  },
  {
   "cell_type": "markdown",
   "id": "67b37b60",
   "metadata": {},
   "source": [
    "."
   ]
  },
  {
   "cell_type": "markdown",
   "id": "af68036d",
   "metadata": {},
   "source": [
    "### 36) Give an example of two Numpy arrays that cannot be concatenated."
   ]
  },
  {
   "cell_type": "code",
   "execution_count": null,
   "id": "ba0d3dfd",
   "metadata": {},
   "outputs": [],
   "source": [
    "a = np.array([1, 2])\n",
    "b = np.array([3, 4])\n",
    "np.concatenate(a, b)\n",
    "\n",
    "# TypeError: only length-1 arrays can be converted to Python scalars\n"
   ]
  },
  {
   "cell_type": "code",
   "execution_count": null,
   "id": "91090592",
   "metadata": {},
   "outputs": [],
   "source": [
    "import numpy as np\n",
    "allValues = np.arange(-1, 1, 0.5)\n",
    "tmp = np.concatenate(allValues, np.array([30], float))"
   ]
  },
  {
   "cell_type": "markdown",
   "id": "4b287bba",
   "metadata": {},
   "source": [
    "### 37) What is the purpose of the np.reshape function?\n",
    "\n",
    "Change an Array's Shape Using NumPy reshape() NumPy's reshape() enables you to change the shape of an array into another compatible shape."
   ]
  },
  {
   "cell_type": "markdown",
   "id": "138e13d4",
   "metadata": {},
   "source": [
    "### 38) What does it mean to “reshape” a Numpy array?\n",
    "\n",
    "Reshaping means changing the shape of an array. The shape of an array is the number of elements in each dimension. By reshaping we can add or remove dimensions or change number of elements in each dimension."
   ]
  },
  {
   "cell_type": "markdown",
   "id": "176bec17",
   "metadata": {},
   "source": [
    "### 39) How do you write a numpy array into a CSV file?"
   ]
  },
  {
   "cell_type": "code",
   "execution_count": null,
   "id": "193098e3",
   "metadata": {},
   "outputs": [],
   "source": [
    "# save numpy array as csv file\n",
    "from numpy import asarray\n",
    "from numpy import savetxt\n",
    "# define data\n",
    "data = asarray([[0, 1, 2, 3, 4, 5, 6, 7, 8, 9]])\n",
    "# save to csv file\n",
    "savetxt('data.csv', data, delimiter=',')"
   ]
  },
  {
   "cell_type": "markdown",
   "id": "7c70e21f",
   "metadata": {},
   "source": [
    "### 40) Give some examples of Numpy functions for performing mathematical operations."
   ]
  },
  {
   "cell_type": "code",
   "execution_count": null,
   "id": "b92444da",
   "metadata": {},
   "outputs": [],
   "source": [
    "import numpy as np\n",
    " \n",
    "# Defining both the matrices\n",
    "a = np.array([5, 72, 13, 100])\n",
    "b = np.array([2, 5, 10, 30])\n",
    " \n",
    "# Performing addition using arithmetic operator\n",
    "add_ans = a+b\n",
    "print(add_ans)\n",
    " \n",
    "# Performing addition using numpy function\n",
    "add_ans = np.add(a, b)\n",
    "print(add_ans)\n",
    " \n",
    "# this would work\n",
    "c = np.array([1, 2, 3, 4])\n",
    "add_ans = a+b+c\n",
    "print(add_ans)\n",
    " \n",
    "# but here NumPy only considers the first two arrays (a and b) and ignores the third one (c).\n",
    "add_ans = np.add(a, b, c)\n",
    "print(add_ans)"
   ]
  },
  {
   "cell_type": "markdown",
   "id": "0e277600",
   "metadata": {},
   "source": [
    "."
   ]
  },
  {
   "cell_type": "markdown",
   "id": "070b3df6",
   "metadata": {},
   "source": [
    "### 41) Give some examples of Numpy functions for performing array manipulation."
   ]
  },
  {
   "cell_type": "code",
   "execution_count": null,
   "id": "f7a22f40",
   "metadata": {},
   "outputs": [],
   "source": [
    "import numpy as np\n",
    "\n",
    "# create a 1D array\n",
    "array1 = np.array([1, 3, 5, 7, 9, 11])\n",
    "\n",
    "# reshape the 1D array into a 2D array\n",
    "array2 = np.reshape(array1, (2, 3))\n",
    "\n",
    "# transpose the 2D array\n",
    "array3 = np.transpose(array2)\n",
    "\n",
    "print(\"Original array:\\n\", array1)\n",
    "print(\"\\nReshaped array:\\n\", array2)\n",
    "print(\"\\nTransposed array:\\n\", array3)"
   ]
  },
  {
   "cell_type": "markdown",
   "id": "939e7ea4",
   "metadata": {},
   "source": [
    "."
   ]
  },
  {
   "cell_type": "markdown",
   "id": "7c269ff1",
   "metadata": {},
   "source": [
    "### 42) Give some examples of Numpy functions for performing linear algebra."
   ]
  },
  {
   "cell_type": "code",
   "execution_count": null,
   "id": "11b2c4ae",
   "metadata": {},
   "outputs": [],
   "source": [
    "import numpy as np  \n",
    "a = np.array([[100,200],[23,12]])  \n",
    "b = np.array([[10,20],[12,21]])  \n",
    "dot = np.dot(a,b)  \n",
    "print(dot)"
   ]
  },
  {
   "cell_type": "code",
   "execution_count": null,
   "id": "5578ce7a",
   "metadata": {},
   "outputs": [],
   "source": [
    "import numpy as np  \n",
    "a = np.array([[100,200],[23,12]])  \n",
    "b = np.array([[10,20],[12,21]])  \n",
    "vdot = np.vdot(a,b)  \n",
    "print(vdot) "
   ]
  },
  {
   "cell_type": "code",
   "execution_count": null,
   "id": "c70a085b",
   "metadata": {},
   "outputs": [],
   "source": [
    "import numpy as np  \n",
    "a = np.array([1,2,3,4,5,6])  \n",
    "b = np.array([23,23,12,2,1,2])  \n",
    "inner = np.inner(a,b)  \n",
    "print(inner) "
   ]
  },
  {
   "cell_type": "markdown",
   "id": "3dbb33f9",
   "metadata": {},
   "source": [
    "### 43) Give some examples of Numpy functions for performing statistical operations."
   ]
  },
  {
   "cell_type": "code",
   "execution_count": null,
   "id": "f9d29337",
   "metadata": {},
   "outputs": [],
   "source": [
    "import numpy as np  \n",
    "  \n",
    "a = np.array([[2,10,20],[80,43,31],[22,43,10]])  \n",
    "  \n",
    "print(\"The original array:\\n\")  \n",
    "print(a)  \n",
    "  \n",
    "  \n",
    "print(\"\\nThe minimum element among the array:\",np.amin(a))  \n",
    "print(\"The maximum element among the array:\",np.amax(a))  \n",
    "  \n",
    "print(\"\\nThe minimum element among the rows of array\",np.amin(a,0))  \n",
    "print(\"The maximum element among the rows of array\",np.amax(a,0))  \n",
    "  \n",
    "print(\"\\nThe minimum element among the columns of array\",np.amin(a,1))  \n",
    "print(\"The maximum element among the columns of array\",np.amax(a,1)) "
   ]
  },
  {
   "cell_type": "markdown",
   "id": "9bc40228",
   "metadata": {},
   "source": [
    "### 44) How do you find the right Numpy function for a specific operation or use case?"
   ]
  },
  {
   "cell_type": "markdown",
   "id": "d6c0f8a9",
   "metadata": {},
   "source": [
    "There are a few ways to find the right NumPy function for a specific operation or use case:\n",
    "\n",
    "**1. Use the NumPy documentation.**\n",
    "\n",
    "The NumPy documentation is a comprehensive resource that includes information on all of the functions available in NumPy. You can search the documentation by keyword or browse the function reference.\n",
    "\n",
    "**2. Use the NumPy quick reference.**\n",
    "\n",
    "The NumPy quick reference is a condensed version of the NumPy documentation that includes a table of all of the functions available in NumPy, along with their brief descriptions and links to the full documentation.\n",
    "\n",
    "**3. Use a search engine.**\n",
    "\n",
    "If you know the name of a function that is similar to what you need, but not exactly what you need, you can use a search engine to find the correct NumPy function. For example, if you are looking for a function to calculate the mean of an array, you could search for \"numpy mean array\".\n",
    "\n",
    "**4. Ask for help.**\n",
    "\n",
    "If you are still having trouble finding the right NumPy function, you can ask for help on a forum or online community. There are many experienced NumPy users who are willing to help others learn the library.\n",
    "\n",
    "In addition to these general methods, there are a few specific things you can do to find the right NumPy function for a specific operation or use case:\n",
    "\n",
    "**1. Identify the type of operation you need to perform.**\n",
    "\n",
    "The first step is to identify the type of operation you need to perform. For example, are you trying to calculate the mean of an array? Find the minimum or maximum value in an array? Sort an array? Once you know the type of operation you need to perform, you can narrow down your search.\n",
    "\n",
    "**2. Consider the data type of the array.**\n",
    "\n",
    "Different NumPy functions work with different data types. For example, the `mean()` function works with floating-point arrays, while the `median()` function works with integer arrays. Once you know the data type of your array, you can further narrow down your search.\n",
    "\n",
    "**3. Use the NumPy ufunc lookup table.**\n",
    "\n",
    "The NumPy ufunc lookup table is a table that lists all of the NumPy universal functions (ufuncs), along with their descriptions and links to the full documentation. Ufuncs are a type of NumPy function that operates on arrays element-wise.\n",
    "\n",
    "**4. Use the NumPy broadcasting rules.**\n",
    "\n",
    "The NumPy broadcasting rules are a set of rules that determine how NumPy functions operate on arrays of different shapes. Understanding the broadcasting rules can help you find the right NumPy function for your specific use case.\n",
    "\n",
    "I hope these tips help you find the right NumPy function for your next project!\n"
   ]
  },
  {
   "cell_type": "markdown",
   "id": "ef50af53",
   "metadata": {},
   "source": [
    "### 45) Where can you see a list of all the Numpy array functions and operations?"
   ]
  },
  {
   "cell_type": "code",
   "execution_count": null,
   "id": "4295ba0b",
   "metadata": {},
   "outputs": [],
   "source": [
    "import numpy as np\n",
    "dir(np)"
   ]
  },
  {
   "cell_type": "markdown",
   "id": "d0685b3c",
   "metadata": {},
   "source": [
    "### 46) What are the arithmetic operators supported by Numpy arrays? Illustrate with examples."
   ]
  },
  {
   "cell_type": "code",
   "execution_count": null,
   "id": "387209c8",
   "metadata": {},
   "outputs": [],
   "source": [
    "import numpy as np\n",
    "\n",
    "first_array = np.array([1, 3, 5, 7])\n",
    "second_array = np.array([2, 4, 6, 8])\n",
    "\n",
    "# using the + operator\n",
    "result1 = first_array + second_array\n",
    "print(\"Using the + operator:\",result1) \n",
    "\n",
    "# using the add() function\n",
    "result2 = np.add(first_array, second_array)\n",
    "print(\"Using the add() function:\",result2)"
   ]
  },
  {
   "cell_type": "code",
   "execution_count": null,
   "id": "d23d7fac",
   "metadata": {},
   "outputs": [],
   "source": [
    "import numpy as np\n",
    "\n",
    "first_array = np.array([3, 9, 27, 81])\n",
    "second_array = np.array([2, 4, 8, 16])\n",
    "\n",
    "# using the - operator\n",
    "result1 = first_array - second_array\n",
    "print(\"Using the - operator:\",result1) \n",
    "\n",
    "# using the subtract() function\n",
    "result2 = np.subtract(first_array, second_array)\n",
    "print(\"Using the subtract() function:\",result2) "
   ]
  },
  {
   "cell_type": "code",
   "execution_count": null,
   "id": "02f59e6a",
   "metadata": {},
   "outputs": [],
   "source": [
    "import numpy as np\n",
    "\n",
    "first_array = np.array([1, 3, 5, 7])\n",
    "second_array = np.array([2, 4, 6, 8])\n",
    "\n",
    "# using the * operator\n",
    "result1 = first_array * second_array\n",
    "print(\"Using the * operator:\",result1) \n",
    "\n",
    "# using the multiply() function\n",
    "result2 = np.multiply(first_array, second_array)\n",
    "print(\"Using the multiply() function:\",result2) "
   ]
  },
  {
   "cell_type": "code",
   "execution_count": null,
   "id": "fac13caf",
   "metadata": {},
   "outputs": [],
   "source": [
    "import numpy as np\n",
    "\n",
    "first_array = np.array([1, 2, 3])\n",
    "second_array = np.array([4, 5, 6])\n",
    "\n",
    "# using the / operator\n",
    "result1 = first_array / second_array\n",
    "print(\"Using the / operator:\",result1) \n",
    "\n",
    "# using the divide() function\n",
    "result2 = np.divide(first_array, second_array)\n",
    "print(\"Using the divide() function:\",result2) "
   ]
  },
  {
   "cell_type": "code",
   "execution_count": null,
   "id": "2ba1f946",
   "metadata": {},
   "outputs": [],
   "source": [
    "import numpy as np\n",
    "\n",
    "array1 = np.array([1, 2, 3])\n",
    "\n",
    "# using the ** operator\n",
    "result1 = array1 ** 2\n",
    "print(\"Using the ** operator:\",result1) \n",
    "\n",
    "# using the power() function\n",
    "result2 = np.power(array1, 2)\n",
    "print(\"Using the power() function:\",result2) "
   ]
  },
  {
   "cell_type": "code",
   "execution_count": null,
   "id": "c07e20ef",
   "metadata": {},
   "outputs": [],
   "source": [
    "import numpy as np\n",
    "\n",
    "first_array = np.array([9, 10, 20])\n",
    "second_array = np.array([2, 5, 7])\n",
    "\n",
    "# using the % operator\n",
    "result1 = first_array % second_array\n",
    "print(\"Using the % operator:\",result1) \n",
    "\n",
    "# using the mod() function\n",
    "result2 = np.mod(first_array, second_array)\n",
    "print(\"Using the mod() function:\",result2)"
   ]
  },
  {
   "cell_type": "markdown",
   "id": "5f737a85",
   "metadata": {},
   "source": [
    "."
   ]
  },
  {
   "cell_type": "markdown",
   "id": "d9adb1b7",
   "metadata": {},
   "source": [
    "### 47) What is array broadcasting? How is it useful? Illustrate with an example.\n",
    "\n",
    "The term broadcasting describes how numpy treats arrays with different shapes during arithmetic operations.\n",
    "Broadcasting provides a means of vectorizing array operations so that looping occurs in C instead of Python. It does this without making needless copies of data and usually leads to efficient algorithm implementations.\n"
   ]
  },
  {
   "cell_type": "markdown",
   "id": "a05635d8",
   "metadata": {},
   "source": [
    "### 48) Give some examples of arrays that are compatible for broadcasting?"
   ]
  },
  {
   "cell_type": "code",
   "execution_count": null,
   "id": "7f5d3eac",
   "metadata": {},
   "outputs": [],
   "source": [
    "import numpy as np\n",
    " \n",
    "a = np.array([5, 7, 3, 1])\n",
    "b = np.array([90, 50, 0, 30])\n",
    " \n",
    "# array are compatible because of same Dimension\n",
    "c = a * b\n",
    "print(c)"
   ]
  },
  {
   "cell_type": "markdown",
   "id": "ea5a0926",
   "metadata": {},
   "source": [
    "### 49) Give some examples of arrays that are not compatible for broadcasting?"
   ]
  },
  {
   "cell_type": "code",
   "execution_count": null,
   "id": "49581e40",
   "metadata": {},
   "outputs": [],
   "source": [
    "a = np.array([[ 0.0,  0.0,  0.0],\n",
    "              [10.0, 10.0, 10.0],\n",
    "              [20.0, 20.0, 20.0],\n",
    "              [30.0, 30.0, 30.0]])\n",
    "b = np.array([1.0, 2.0, 3.0])\n",
    "a + b\n",
    "np.array([[  1.,   2.,   3.],\n",
    "        [11.,  12.,  13.],\n",
    "        [21.,  22.,  23.],\n",
    "        [31.,  32.,  33.]])\n",
    "b = np.array([1.0, 2.0, 3.0, 4.0])\n",
    "a + b"
   ]
  },
  {
   "cell_type": "markdown",
   "id": "ae5ec98f",
   "metadata": {},
   "source": [
    "### 50) What are the comparison operators supported by Numpy arrays? Illustrate with examples."
   ]
  },
  {
   "cell_type": "code",
   "execution_count": null,
   "id": "9392ae08",
   "metadata": {},
   "outputs": [],
   "source": [
    "import numpy as np\n",
    "\n",
    "array1 = np.array([1, 2, 3])\n",
    "array2 = np.array([3, 2, 1])\n",
    "\n",
    "# less than operator\n",
    "result1 = array1 < array2\n",
    "print(\"array1 < array2:\",result1)    # Output: [ True False False]\n",
    "\n",
    "# greater than operator\n",
    "result2 = array1 > array2\n",
    "print(\"array1 > array2:\",result2)    # Output: [False False  True]\n",
    "\n",
    "# equal to operator\n",
    "result3 = array1 == array2\n",
    "print(\"array1 == array2:\",result3)    # Output: [False  True False]\n"
   ]
  },
  {
   "cell_type": "markdown",
   "id": "6e12947c",
   "metadata": {},
   "source": [
    "### 51) How do you access a specific subarray or slice from a Numpy array?"
   ]
  },
  {
   "cell_type": "code",
   "execution_count": null,
   "id": "d92ecb8d",
   "metadata": {},
   "outputs": [],
   "source": [
    "#import the necessary library\n",
    "import numpy as np\n",
    " \n",
    "array1 = np.array([2, 4, 6, 8, 10])\n",
    " \n",
    "print(array1[1:])"
   ]
  },
  {
   "cell_type": "markdown",
   "id": "cf3a2ebb",
   "metadata": {},
   "source": [
    "### 52) Illustrate array indexing and slicing in multi-dimensional Numpy arrays with some examples."
   ]
  },
  {
   "cell_type": "code",
   "execution_count": null,
   "id": "e2223c61",
   "metadata": {},
   "outputs": [],
   "source": [
    "import numpy as np\n",
    "\n",
    "a2 = np.array([[1, 2, 3],\n",
    "              [4, 5, 6],\n",
    "              [7, 8, 9]])\n",
    "print(a2[2, 1])"
   ]
  },
  {
   "cell_type": "markdown",
   "id": "e50ea884",
   "metadata": {},
   "source": [
    "### 53) How do you create a Numpy array with a given shape containing all zeros?"
   ]
  },
  {
   "cell_type": "code",
   "execution_count": null,
   "id": "817ea8f0",
   "metadata": {},
   "outputs": [],
   "source": [
    "np.ones((2,4))"
   ]
  },
  {
   "cell_type": "markdown",
   "id": "a7ce3798",
   "metadata": {},
   "source": [
    "### 55) How do you create an identity matrix of a given shape?"
   ]
  },
  {
   "cell_type": "code",
   "execution_count": null,
   "id": "1cbb234e",
   "metadata": {},
   "outputs": [],
   "source": [
    "import numpy as np\n",
    "\n",
    "dimension = int(input(\"Enter the dimension of identitiy matrix: \"))\n",
    "identity_matrix = np.identity(dimension, dtype=\"int\")\n",
    "print(identity_matrix)"
   ]
  },
  {
   "cell_type": "markdown",
   "id": "502b2e5d",
   "metadata": {},
   "source": [
    "### 56) How do you create a random vector of a given length?"
   ]
  },
  {
   "cell_type": "code",
   "execution_count": null,
   "id": "e930868c",
   "metadata": {},
   "outputs": [],
   "source": [
    "import numpy as np\n",
    "x = np.random.randint(0, 11, 5)\n",
    "print(\"Vector of length 5 filled with arbitrary integers from 0 to 10:\")\n",
    "print(x)"
   ]
  },
  {
   "cell_type": "markdown",
   "id": "6c190b65",
   "metadata": {},
   "source": [
    "."
   ]
  },
  {
   "cell_type": "markdown",
   "id": "aa63a320",
   "metadata": {},
   "source": [
    "### 57) How do you create a Numpy array with a given shape with a fixed value for each element?"
   ]
  },
  {
   "cell_type": "code",
   "execution_count": null,
   "id": "699ff6c0",
   "metadata": {},
   "outputs": [],
   "source": [
    "import numpy as np\n",
    "\n",
    "a1 = np.zeros(4)\n",
    "print(a1)"
   ]
  },
  {
   "cell_type": "markdown",
   "id": "10a3dd3b",
   "metadata": {},
   "source": [
    "### 58) How do you create a Numpy array with a given shape containing randomly initialized elements?"
   ]
  },
  {
   "cell_type": "code",
   "execution_count": null,
   "id": "6c9f19a3",
   "metadata": {},
   "outputs": [],
   "source": [
    "import numpy as np\n",
    "\n",
    "# if the shape is not mentioned the output will just be a random integer in the given range\n",
    "rand_int = np.random.randint(5,10)  \n",
    "print(\"First array\", rand_int)\n",
    "\n",
    "rand_int2 = np.random.randint(10,90,(4,5)) # random numpy array of shape (4,5)\n",
    "print(\"Second array\", rand_int2)\n",
    "\n",
    "rand_int3 = np.random.randint(50,75,(2,2), dtype='int64')\n",
    "print(\"Third array\", rand_int3)"
   ]
  },
  {
   "cell_type": "markdown",
   "id": "f1942098",
   "metadata": {},
   "source": [
    "."
   ]
  },
  {
   "cell_type": "markdown",
   "id": "2629f2a8",
   "metadata": {},
   "source": [
    "### 59) What is the difference between np.random.rand and np.random.randn? Illustrate with examples.\n",
    "\n",
    "numpy.random.randn generates samples from the normal distribution, while numpy.random.rand from uniform (in range [0,1]))."
   ]
  },
  {
   "cell_type": "code",
   "execution_count": 91,
   "id": "2ad4d15e",
   "metadata": {},
   "outputs": [
    {
     "data": {
      "image/png": "[encoded data removed]",
      "text/plain": [
       "<Figure size 640x480 with 1 Axes>"
      ]
     },
     "metadata": {},
     "output_type": "display_data"
    },
    {
     "data": {
      "image/png": "[encoded data removed]",
      "text/plain": [
       "<Figure size 640x480 with 1 Axes>"
      ]
     },
     "metadata": {},
     "output_type": "display_data"
    }
   ],
   "source": [
    "import numpy as np\n",
    "import matplotlib.pyplot as plt\n",
    "\n",
    "sample_size = 100000\n",
    "uniform = np.random.rand(sample_size)\n",
    "normal = np.random.randn(sample_size)\n",
    "\n",
    "pdf, bins, patches = plt.hist(uniform, bins=20, range=(0, 1), density=True)\n",
    "plt.title('rand: uniform')\n",
    "plt.show()\n",
    "\n",
    "pdf, bins, patches = plt.hist(normal, bins=20, range=(-4, 4), density=True)\n",
    "plt.title('randn: normal')\n",
    "plt.show()"
   ]
  },
  {
   "cell_type": "markdown",
   "id": "c1f661d0",
   "metadata": {},
   "source": [
    "### 60) What is the difference between np.arange and np.linspace? Illustrate with examples.\n",
    "\n",
    "np.arange : Return evenly spaced values within a given interval.\n",
    "np.linspace : Return evenly spaced numbers over a specified interval."
   ]
  },
  {
   "cell_type": "code",
   "execution_count": 92,
   "id": "e9906e98",
   "metadata": {},
   "outputs": [
    {
     "data": {
      "text/plain": [
       "array([0. , 0.1, 0.2, 0.3, 0.4, 0.5, 0.6, 0.7, 0.8, 0.9, 1. ])"
      ]
     },
     "execution_count": 92,
     "metadata": {},
     "output_type": "execute_result"
    }
   ],
   "source": [
    "np.linspace(0,1,11)\n",
    "np.array([0. , 0.1, 0.2, 0.3, 0.4, 0.5, 0.6, 0.7, 0.8, 0.9, 1. ])"
   ]
  },
  {
   "cell_type": "markdown",
   "id": "28c23eb0",
   "metadata": {},
   "source": [
    "."
   ]
  },
  {
   "cell_type": "markdown",
   "id": "bccfe9a7",
   "metadata": {},
   "source": [
    "."
   ]
  },
  {
   "cell_type": "markdown",
   "id": "5ad3f246",
   "metadata": {},
   "source": [
    "."
   ]
  },
  {
   "cell_type": "markdown",
   "id": "8024dbfd",
   "metadata": {},
   "source": [
    "### 1. Import the numpy package under the name np"
   ]
  },
  {
   "cell_type": "code",
   "execution_count": 93,
   "id": "81d28d11",
   "metadata": {},
   "outputs": [],
   "source": [
    "import numpy as np"
   ]
  },
  {
   "cell_type": "markdown",
   "id": "103fa4b4",
   "metadata": {},
   "source": [
    "### 2. Print the numpy version and the configuration"
   ]
  },
  {
   "cell_type": "code",
   "execution_count": 94,
   "id": "8712e792",
   "metadata": {},
   "outputs": [
    {
     "name": "stdout",
     "output_type": "stream",
     "text": [
      "1.24.3\n",
      "blas_armpl_info:\n",
      "  NOT AVAILABLE\n",
      "blas_mkl_info:\n",
      "    libraries = ['mkl_rt']\n",
      "    library_dirs = ['F:/Anaconda\\\\Library\\\\lib']\n",
      "    define_macros = [('SCIPY_MKL_H', None), ('HAVE_CBLAS', None)]\n",
      "    include_dirs = ['F:/Anaconda\\\\Library\\\\include']\n",
      "blas_opt_info:\n",
      "    libraries = ['mkl_rt']\n",
      "    library_dirs = ['F:/Anaconda\\\\Library\\\\lib']\n",
      "    define_macros = [('SCIPY_MKL_H', None), ('HAVE_CBLAS', None)]\n",
      "    include_dirs = ['F:/Anaconda\\\\Library\\\\include']\n",
      "lapack_armpl_info:\n",
      "  NOT AVAILABLE\n",
      "lapack_mkl_info:\n",
      "    libraries = ['mkl_rt']\n",
      "    library_dirs = ['F:/Anaconda\\\\Library\\\\lib']\n",
      "    define_macros = [('SCIPY_MKL_H', None), ('HAVE_CBLAS', None)]\n",
      "    include_dirs = ['F:/Anaconda\\\\Library\\\\include']\n",
      "lapack_opt_info:\n",
      "    libraries = ['mkl_rt']\n",
      "    library_dirs = ['F:/Anaconda\\\\Library\\\\lib']\n",
      "    define_macros = [('SCIPY_MKL_H', None), ('HAVE_CBLAS', None)]\n",
      "    include_dirs = ['F:/Anaconda\\\\Library\\\\include']\n",
      "Supported SIMD extensions in this NumPy install:\n",
      "    baseline = SSE,SSE2,SSE3\n",
      "    found = SSSE3,SSE41,POPCNT,SSE42,AVX,F16C,FMA3,AVX2\n",
      "    not found = AVX512F,AVX512CD,AVX512_SKX,AVX512_CLX,AVX512_CNL,AVX512_ICL\n",
      "None\n"
     ]
    }
   ],
   "source": [
    "import numpy as np\n",
    "print(np.__version__)\n",
    "print(np.show_config())"
   ]
  },
  {
   "cell_type": "markdown",
   "id": "5e3a139a",
   "metadata": {},
   "source": [
    "### 3. Create a null vector of size 10"
   ]
  },
  {
   "cell_type": "code",
   "execution_count": 95,
   "id": "2ca19a4d",
   "metadata": {},
   "outputs": [
    {
     "name": "stdout",
     "output_type": "stream",
     "text": [
      "[0. 0. 0. 0. 0. 0. 0. 0. 0. 0.]\n"
     ]
    }
   ],
   "source": [
    "import numpy as np\n",
    "x = np.zeros(10)\n",
    "print(x)"
   ]
  },
  {
   "cell_type": "markdown",
   "id": "6806ccc8",
   "metadata": {},
   "source": [
    "### 4. How to find the memory size of any array"
   ]
  },
  {
   "cell_type": "code",
   "execution_count": 96,
   "id": "dc776352",
   "metadata": {},
   "outputs": [
    {
     "name": "stdout",
     "output_type": "stream",
     "text": [
      "Size of the array:  3\n",
      "Memory size of one array element in bytes:  4\n",
      "Memory size of numpy array in bytes: 12\n"
     ]
    }
   ],
   "source": [
    "# import library\n",
    "import numpy as np\n",
    " \n",
    "# create a numpy 1d-array\n",
    "x = np.array([100,20,34])\n",
    " \n",
    "print(\"Size of the array: \",\n",
    "      x.size)\n",
    " \n",
    "print(\"Memory size of one array element in bytes: \",\n",
    "      x.itemsize)\n",
    " \n",
    "# memory size of numpy array in bytes\n",
    "print(\"Memory size of numpy array in bytes:\",\n",
    "      x.size * x.itemsize)"
   ]
  },
  {
   "cell_type": "markdown",
   "id": "1bb1ccb1",
   "metadata": {},
   "source": [
    "### 5. How to get the documentation of the numpy add function from the command line?"
   ]
  },
  {
   "cell_type": "code",
   "execution_count": 97,
   "id": "c4b326d2",
   "metadata": {},
   "outputs": [
    {
     "name": "stdout",
     "output_type": "stream",
     "text": [
      "add(x1, x2, /, out=None, *, where=True, casting='same_kind', order='K', dtype=None, subok=True[, signature, extobj])\n",
      "\n",
      "Add arguments element-wise.\n",
      "\n",
      "Parameters\n",
      "----------\n",
      "x1, x2 : array_like\n",
      "    The arrays to be added.\n",
      "    If ``x1.shape != x2.shape``, they must be broadcastable to a common\n",
      "    shape (which becomes the shape of the output).\n",
      "out : ndarray, None, or tuple of ndarray and None, optional\n",
      "    A location into which the result is stored. If provided, it must have\n",
      "    a shape that the inputs broadcast to. If not provided or None,\n",
      "    a freshly-allocated array is returned. A tuple (possible only as a\n",
      "    keyword argument) must have length equal to the number of outputs.\n",
      "where : array_like, optional\n",
      "    This condition is broadcast over the input. At locations where the\n",
      "    condition is True, the `out` array will be set to the ufunc result.\n",
      "    Elsewhere, the `out` array will retain its original value.\n",
      "    Note that if an uninitialized `out` array is created via the default\n",
      "    ``out=None``, locations within it where the condition is False will\n",
      "    remain uninitialized.\n",
      "**kwargs\n",
      "    For other keyword-only arguments, see the\n",
      "    :ref:`ufunc docs <ufuncs.kwargs>`.\n",
      "\n",
      "Returns\n",
      "-------\n",
      "add : ndarray or scalar\n",
      "    The sum of `x1` and `x2`, element-wise.\n",
      "    This is a scalar if both `x1` and `x2` are scalars.\n",
      "\n",
      "Notes\n",
      "-----\n",
      "Equivalent to `x1` + `x2` in terms of array broadcasting.\n",
      "\n",
      "Examples\n",
      "--------\n",
      ">>> np.add(1.0, 4.0)\n",
      "5.0\n",
      ">>> x1 = np.arange(9.0).reshape((3, 3))\n",
      ">>> x2 = np.arange(3.0)\n",
      ">>> np.add(x1, x2)\n",
      "array([[  0.,   2.,   4.],\n",
      "       [  3.,   5.,   7.],\n",
      "       [  6.,   8.,  10.]])\n",
      "\n",
      "The ``+`` operator can be used as a shorthand for ``np.add`` on ndarrays.\n",
      "\n",
      ">>> x1 = np.arange(9.0).reshape((3, 3))\n",
      ">>> x2 = np.arange(3.0)\n",
      ">>> x1 + x2\n",
      "array([[ 0.,  2.,  4.],\n",
      "       [ 3.,  5.,  7.],\n",
      "       [ 6.,  8., 10.]])\n",
      "None\n"
     ]
    }
   ],
   "source": [
    "import numpy as np\n",
    "print(np.info(np.add))"
   ]
  },
  {
   "cell_type": "markdown",
   "id": "4d366bf4",
   "metadata": {},
   "source": [
    "### 6. Create a null vector of size 10 but the fifth value which is 1"
   ]
  },
  {
   "cell_type": "code",
   "execution_count": 98,
   "id": "e3376050",
   "metadata": {},
   "outputs": [
    {
     "data": {
      "text/plain": [
       "array([0., 0., 0., 0., 1., 0., 0., 0., 0., 0.])"
      ]
     },
     "execution_count": 98,
     "metadata": {},
     "output_type": "execute_result"
    }
   ],
   "source": [
    "x=np.zeros(10)\n",
    "x[4]=1\n",
    "x"
   ]
  },
  {
   "cell_type": "markdown",
   "id": "b58dbe5a",
   "metadata": {},
   "source": [
    "### 7. Create a vector with values ranging from 10 to 49"
   ]
  },
  {
   "cell_type": "code",
   "execution_count": 99,
   "id": "1b4a5306",
   "metadata": {},
   "outputs": [
    {
     "name": "stdout",
     "output_type": "stream",
     "text": [
      "Original vector:\n",
      "[10 11 12 13 14 15 16 17 18 19 20 21 22 23 24 25 26 27 28 29 30 31 32 33\n",
      " 34 35 36 37 38 39 40 41 42 43 44 45 46 47 48]\n"
     ]
    }
   ],
   "source": [
    "import numpy as np\n",
    "v = np.arange(10,49)\n",
    "print(\"Original vector:\")\n",
    "print(v)"
   ]
  },
  {
   "cell_type": "markdown",
   "id": "9ab6798c",
   "metadata": {},
   "source": [
    "### 8. Reverse a vector (first element becomes last)"
   ]
  },
  {
   "cell_type": "code",
   "execution_count": 100,
   "id": "acfbf197",
   "metadata": {},
   "outputs": [
    {
     "name": "stdout",
     "output_type": "stream",
     "text": [
      "Original array:\n",
      "[12 13 14 15 16 17 18 19 20 21 22 23 24 25 26 27 28 29 30 31 32 33 34 35\n",
      " 36 37]\n",
      "Reverse array:\n",
      "[37 36 35 34 33 32 31 30 29 28 27 26 25 24 23 22 21 20 19 18 17 16 15 14\n",
      " 13 12]\n"
     ]
    }
   ],
   "source": [
    "import numpy as np\n",
    "import numpy as np\n",
    "x = np.arange(12, 38)\n",
    "print(\"Original array:\")\n",
    "print(x)\n",
    "print(\"Reverse array:\")\n",
    "x = x[::-1]\n",
    "print(x)"
   ]
  },
  {
   "cell_type": "markdown",
   "id": "b1cec31f",
   "metadata": {},
   "source": [
    "### 9. Create a 3x3 matrix with values ranging from 0 to 8"
   ]
  },
  {
   "cell_type": "code",
   "execution_count": 101,
   "id": "d30bcf31",
   "metadata": {},
   "outputs": [
    {
     "name": "stdout",
     "output_type": "stream",
     "text": [
      "[[0 1 2]\n",
      " [3 4 5]\n",
      " [6 7 8]]\n"
     ]
    }
   ],
   "source": [
    "import numpy as np\n",
    "x =  np.arange(0, 9).reshape(3,3)\n",
    "print(x)"
   ]
  },
  {
   "cell_type": "markdown",
   "id": "1f041c65",
   "metadata": {},
   "source": [
    "### 10. Find indices of non-zero elements from [1,2,0,0,4,0]"
   ]
  },
  {
   "cell_type": "code",
   "execution_count": 102,
   "id": "ef15473d",
   "metadata": {},
   "outputs": [
    {
     "name": "stdout",
     "output_type": "stream",
     "text": [
      "1\n",
      "2\n",
      "4\n"
     ]
    }
   ],
   "source": [
    "arr = np.array([1,2,0,0,4,0])\n",
    "print(arr[0])\n",
    "print(arr[1])\n",
    "print(arr[4])"
   ]
  },
  {
   "cell_type": "markdown",
   "id": "3caf3a82",
   "metadata": {},
   "source": [
    "### 11. Create a 3x3 identity matrix (★☆☆)"
   ]
  },
  {
   "cell_type": "code",
   "execution_count": 103,
   "id": "2ebd01cf",
   "metadata": {},
   "outputs": [
    {
     "name": "stdout",
     "output_type": "stream",
     "text": [
      "3x3 matrix:\n",
      "[[1. 0. 0.]\n",
      " [0. 1. 0.]\n",
      " [0. 0. 1.]]\n"
     ]
    }
   ],
   "source": [
    "import numpy as np\n",
    "array_2D=np.identity(3)\n",
    "print('3x3 matrix:')\n",
    "print(array_2D)"
   ]
  },
  {
   "cell_type": "markdown",
   "id": "f41a8e60",
   "metadata": {},
   "source": [
    "### 12. Create a 3x3x3 array with random values (★☆☆)"
   ]
  },
  {
   "cell_type": "code",
   "execution_count": 104,
   "id": "19d2070f",
   "metadata": {},
   "outputs": [
    {
     "name": "stdout",
     "output_type": "stream",
     "text": [
      "[[[0.34931949 0.59259151 0.49257181]\n",
      "  [0.14475568 0.40756096 0.02926013]\n",
      "  [0.5630857  0.61501028 0.86491707]]\n",
      "\n",
      " [[0.03461862 0.06123935 0.64642506]\n",
      "  [0.708319   0.4692348  0.91773733]\n",
      "  [0.29787427 0.64163092 0.29521671]]\n",
      "\n",
      " [[0.0615664  0.98135657 0.92237628]\n",
      "  [0.08428682 0.36757978 0.08014459]\n",
      "  [0.25921869 0.50003632 0.75901667]]]\n"
     ]
    }
   ],
   "source": [
    "import numpy as np\n",
    "x = np.random.random((3,3,3))\n",
    "print(x)"
   ]
  },
  {
   "cell_type": "markdown",
   "id": "edf2c739",
   "metadata": {},
   "source": [
    "### 13. Create a 10x10 array with random values and find the minimum and maximum values (★☆☆)"
   ]
  },
  {
   "cell_type": "code",
   "execution_count": 105,
   "id": "ae292e01",
   "metadata": {},
   "outputs": [
    {
     "name": "stdout",
     "output_type": "stream",
     "text": [
      "Original Array:\n",
      "[[3.82297810e-01 6.74718761e-01 3.94279551e-01 2.29371628e-01\n",
      "  1.91104227e-01 8.28007056e-02 5.37133455e-01 9.20342876e-01\n",
      "  1.83295672e-01 1.44294128e-01]\n",
      " [7.21270479e-01 2.10684141e-01 1.31546772e-01 6.53553301e-01\n",
      "  3.93781877e-01 8.82081721e-01 2.94301513e-02 6.05528882e-01\n",
      "  1.70619779e-01 9.13879254e-01]\n",
      " [3.93062710e-04 7.25217228e-01 7.97163068e-01 9.26924353e-01\n",
      "  2.35626549e-02 1.81781063e-02 2.44751744e-01 8.07274215e-01\n",
      "  4.85713073e-01 5.15077601e-01]\n",
      " [6.19236996e-01 7.55675968e-01 6.45510265e-01 8.94436442e-01\n",
      "  1.68469887e-01 8.18417051e-01 6.75599006e-01 5.08684111e-02\n",
      "  4.93316313e-01 6.14846996e-01]\n",
      " [8.57865344e-01 6.77379657e-01 5.54035095e-01 3.95953526e-02\n",
      "  6.81613509e-01 9.37170983e-01 4.12180695e-01 2.42698958e-01\n",
      "  1.50747346e-01 3.92807965e-01]\n",
      " [3.36961937e-01 1.87873888e-01 7.64472907e-01 7.03209365e-01\n",
      "  7.95976057e-02 2.65714118e-01 8.46732622e-01 1.96860043e-02\n",
      "  1.41293660e-01 5.82183215e-01]\n",
      " [2.50894496e-01 9.98077076e-01 7.54390473e-01 8.02638567e-01\n",
      "  8.44822155e-01 3.86388021e-01 3.52992170e-01 7.25916943e-01\n",
      "  1.89525751e-01 8.12138417e-01]\n",
      " [6.83845005e-01 3.85429732e-01 7.55507301e-01 7.64933041e-01\n",
      "  2.78574143e-01 8.10529025e-01 1.73905885e-01 4.93570203e-01\n",
      "  8.07178927e-01 6.49164673e-02]\n",
      " [1.63388202e-01 7.07634508e-01 9.56770542e-01 3.22635718e-01\n",
      "  3.10517177e-01 6.55280553e-01 5.16595774e-01 9.81570905e-02\n",
      "  9.79768559e-01 5.80719469e-01]\n",
      " [9.26490330e-01 1.74768338e-01 2.26717087e-01 1.00963087e-01\n",
      "  9.23640139e-01 6.10909952e-01 4.97038902e-01 6.12724538e-01\n",
      "  5.22601355e-01 5.95886142e-01]]\n",
      "Minimum and Maximum Values:\n",
      "0.00039306271009187377 0.998077076425421\n"
     ]
    }
   ],
   "source": [
    "import numpy as np\n",
    "x = np.random.random((10,10))\n",
    "print(\"Original Array:\")\n",
    "print(x) \n",
    "xmin, xmax = x.min(), x.max()\n",
    "print(\"Minimum and Maximum Values:\")\n",
    "print(xmin, xmax)"
   ]
  },
  {
   "cell_type": "markdown",
   "id": "9d969168",
   "metadata": {},
   "source": [
    "### 14. Create a random vector of size 30 and find the mean value (★☆☆)"
   ]
  },
  {
   "cell_type": "code",
   "execution_count": 106,
   "id": "49a0e5d1",
   "metadata": {},
   "outputs": [
    {
     "data": {
      "text/plain": [
       "0.4988363501870691"
      ]
     },
     "execution_count": 106,
     "metadata": {},
     "output_type": "execute_result"
    }
   ],
   "source": [
    "a=np.random.random((30))\n",
    "a.mean()"
   ]
  },
  {
   "cell_type": "markdown",
   "id": "7cb111b2",
   "metadata": {},
   "source": [
    "### 15. Create a 2d array with 1 on the border and 0 inside (★☆☆)"
   ]
  },
  {
   "cell_type": "code",
   "execution_count": 107,
   "id": "e6fcab6b",
   "metadata": {},
   "outputs": [
    {
     "name": "stdout",
     "output_type": "stream",
     "text": [
      "[[1. 1. 1. 1. 1.]\n",
      " [1. 0. 0. 0. 1.]\n",
      " [1. 0. 0. 0. 1.]\n",
      " [1. 0. 0. 0. 1.]\n",
      " [1. 0. 0. 0. 1.]\n",
      " [1. 0. 0. 0. 1.]\n",
      " [1. 0. 0. 0. 1.]\n",
      " [1. 0. 0. 0. 1.]\n",
      " [1. 0. 0. 0. 1.]\n",
      " [1. 1. 1. 1. 1.]]\n"
     ]
    }
   ],
   "source": [
    "a=np.ones((10,5))\n",
    "a[1:-1,1:-1]=0\n",
    "print(a)"
   ]
  },
  {
   "cell_type": "markdown",
   "id": "df2b271f",
   "metadata": {},
   "source": [
    "### 16. How to add a border (filled with 0's) around an existing array? (★☆☆)"
   ]
  },
  {
   "cell_type": "code",
   "execution_count": 108,
   "id": "06470f5f",
   "metadata": {},
   "outputs": [
    {
     "name": "stdout",
     "output_type": "stream",
     "text": [
      "Original array:\n",
      "[[1. 1. 1.]\n",
      " [1. 1. 1.]\n",
      " [1. 1. 1.]]\n",
      "0 on the border and 1 inside in the array\n",
      "[[0. 0. 0. 0. 0.]\n",
      " [0. 1. 1. 1. 0.]\n",
      " [0. 1. 1. 1. 0.]\n",
      " [0. 1. 1. 1. 0.]\n",
      " [0. 0. 0. 0. 0.]]\n"
     ]
    }
   ],
   "source": [
    "import numpy as np\n",
    "x = np.ones((3,3))\n",
    "print(\"Original array:\")\n",
    "print(x)\n",
    "print(\"0 on the border and 1 inside in the array\")\n",
    "x = np.pad(x, pad_width=1, mode='constant', constant_values=0)\n",
    "print(x)"
   ]
  },
  {
   "cell_type": "markdown",
   "id": "996773fe",
   "metadata": {},
   "source": [
    "### 17. What is the result of the following expression? (★☆☆)"
   ]
  },
  {
   "cell_type": "code",
   "execution_count": 109,
   "id": "ad37d84a",
   "metadata": {},
   "outputs": [
    {
     "name": "stdout",
     "output_type": "stream",
     "text": [
      "nan\n",
      "False\n",
      "False\n",
      "nan\n",
      "False\n"
     ]
    }
   ],
   "source": [
    "print(0 * np.nan)\n",
    "print(np.nan == np.nan)\n",
    "print(np.inf > np.nan)\n",
    "print(np.nan - np.nan)\n",
    "print(0.3 == 3 * 0.1)"
   ]
  },
  {
   "cell_type": "markdown",
   "id": "0a03dcc7",
   "metadata": {},
   "source": [
    "### 18. Create a 5x5 matrix with values 1,2,3,4 just below the diagonal (★☆☆)"
   ]
  },
  {
   "cell_type": "code",
   "execution_count": 110,
   "id": "e150daf3",
   "metadata": {},
   "outputs": [
    {
     "name": "stdout",
     "output_type": "stream",
     "text": [
      "[[0 0 0 0 0]\n",
      " [1 0 0 0 0]\n",
      " [0 2 0 0 0]\n",
      " [0 0 3 0 0]\n",
      " [0 0 0 4 0]]\n"
     ]
    }
   ],
   "source": [
    "a=np.diag(np.arange(1,5),k=-1)\n",
    "print(a)"
   ]
  },
  {
   "cell_type": "markdown",
   "id": "5da4f901",
   "metadata": {},
   "source": [
    "### 19. Create a 8x8 matrix and fill it with a checkerboard pattern (★☆☆)"
   ]
  },
  {
   "cell_type": "code",
   "execution_count": 111,
   "id": "c71d43bf",
   "metadata": {},
   "outputs": [
    {
     "name": "stdout",
     "output_type": "stream",
     "text": [
      "Checkerboard pattern:\n",
      "[[0 1 0 1 0 1 0 1]\n",
      " [1 0 1 0 1 0 1 0]\n",
      " [0 1 0 1 0 1 0 1]\n",
      " [1 0 1 0 1 0 1 0]\n",
      " [0 1 0 1 0 1 0 1]\n",
      " [1 0 1 0 1 0 1 0]\n",
      " [0 1 0 1 0 1 0 1]\n",
      " [1 0 1 0 1 0 1 0]]\n"
     ]
    }
   ],
   "source": [
    "import numpy as np\n",
    "x = np.ones((3,3))\n",
    "print(\"Checkerboard pattern:\")\n",
    "x = np.zeros((8,8),dtype=int)\n",
    "x[1::2,::2] = 1\n",
    "x[::2,1::2] = 1\n",
    "print(x)"
   ]
  },
  {
   "cell_type": "markdown",
   "id": "1295352c",
   "metadata": {},
   "source": [
    "### 20. Consider a (6,7,8) shape array, what is the index (x,y,z) of the 100th element?"
   ]
  },
  {
   "cell_type": "code",
   "execution_count": 112,
   "id": "35264e85",
   "metadata": {},
   "outputs": [
    {
     "name": "stdout",
     "output_type": "stream",
     "text": [
      "(1, 5, 4)\n"
     ]
    }
   ],
   "source": [
    "import numpy as np\n",
    "print (np.unravel_index(100, (6,7,8)))"
   ]
  },
  {
   "cell_type": "markdown",
   "id": "1bac2086",
   "metadata": {},
   "source": [
    "### 21. Create a checkerboard 8x8 matrix using the tile function (★☆☆)"
   ]
  },
  {
   "cell_type": "code",
   "execution_count": 113,
   "id": "48fadde2",
   "metadata": {},
   "outputs": [
    {
     "name": "stdout",
     "output_type": "stream",
     "text": [
      "[[1 0 1 0 1 0 1 0]\n",
      " [0 1 0 1 0 1 0 1]\n",
      " [1 0 1 0 1 0 1 0]\n",
      " [0 1 0 1 0 1 0 1]\n",
      " [1 0 1 0 1 0 1 0]\n",
      " [0 1 0 1 0 1 0 1]\n",
      " [1 0 1 0 1 0 1 0]\n",
      " [0 1 0 1 0 1 0 1]]\n"
     ]
    }
   ],
   "source": [
    "import numpy as np\n",
    "Z = np.ones ((8,8), dtype=int)\n",
    "Z[1::2,::2]= 0\n",
    "Z[::2, 1::2] = 0\n",
    "print (Z)"
   ]
  },
  {
   "cell_type": "markdown",
   "id": "68d3591c",
   "metadata": {},
   "source": [
    "### 22. Normalize a 5x5 random matrix (★☆☆)"
   ]
  },
  {
   "cell_type": "code",
   "execution_count": 114,
   "id": "99200ddb",
   "metadata": {},
   "outputs": [
    {
     "name": "stdout",
     "output_type": "stream",
     "text": [
      "[[0.28741122 1.         0.56733893 0.78199848 0.23799017]\n",
      " [0.         0.19344382 0.26741751 0.58379513 0.42030207]\n",
      " [0.91804132 0.98166036 0.38224773 0.67443817 0.40123579]\n",
      " [0.55888164 0.36908343 0.07930755 0.00146444 0.59974006]\n",
      " [0.65358687 0.80826063 0.00405936 0.12404596 0.77265191]]\n"
     ]
    }
   ],
   "source": [
    "a=np.random.random((5,5))\n",
    "a_min,a_max=a.min(),a.max()\n",
    "normalize=(a-a_min)/(a_max-a_min)\n",
    "print(normalize)"
   ]
  },
  {
   "cell_type": "markdown",
   "id": "9ebbf402",
   "metadata": {},
   "source": [
    "### 23. Create a custom dtype that describes a color as four unsigned bytes (RGBA) (★☆☆)"
   ]
  },
  {
   "cell_type": "code",
   "execution_count": 115,
   "id": "7404f440",
   "metadata": {},
   "outputs": [],
   "source": [
    "color = np.dtype([(\"r\", np.ubyte,  (1,)),\n",
    "                  (\"g\", np.ubyte,  (1,)),\n",
    "                  (\"b\", np.ubyte,  (1,)),\n",
    "                  (\"a\", np.ubyte,  (1,))])"
   ]
  },
  {
   "cell_type": "markdown",
   "id": "eb69203f",
   "metadata": {},
   "source": [
    "### 24. Multiply a 5x3 matrix by a 3x2 matrix (real matrix product) (★☆☆)"
   ]
  },
  {
   "cell_type": "code",
   "execution_count": 116,
   "id": "89650c5e",
   "metadata": {},
   "outputs": [
    {
     "name": "stdout",
     "output_type": "stream",
     "text": [
      "[[3. 3.]\n",
      " [3. 3.]\n",
      " [3. 3.]\n",
      " [3. 3.]\n",
      " [3. 3.]]\n",
      "[[3. 3.]\n",
      " [3. 3.]\n",
      " [3. 3.]\n",
      " [3. 3.]\n",
      " [3. 3.]]\n"
     ]
    }
   ],
   "source": [
    "Z = np.dot(np.ones((5,3)), np.ones((3,2)))\n",
    "print(Z)\n",
    "\n",
    "# Alternative solution, in Python 3.5 and above\n",
    "Z = np.ones((5,3)) @ np.ones((3,2))\n",
    "print(Z)"
   ]
  },
  {
   "cell_type": "markdown",
   "id": "bd745a8f",
   "metadata": {},
   "source": [
    "### 25. Given a 1D array, negate all elements which are between 3 and 8, in place. (★☆☆)"
   ]
  },
  {
   "cell_type": "code",
   "execution_count": 117,
   "id": "a655e6a0",
   "metadata": {},
   "outputs": [
    {
     "name": "stdout",
     "output_type": "stream",
     "text": [
      "[ 0  1  2  3 -4 -5 -6 -7 -8  9 10]\n"
     ]
    }
   ],
   "source": [
    "Z = np.arange(11)\n",
    "Z[(3 < Z) & (Z <= 8)] *= -1\n",
    "print(Z)"
   ]
  },
  {
   "cell_type": "markdown",
   "id": "66d4faca",
   "metadata": {},
   "source": [
    "### 26. What is the output of the following script? (★☆☆)"
   ]
  },
  {
   "cell_type": "code",
   "execution_count": 118,
   "id": "d451158f",
   "metadata": {},
   "outputs": [
    {
     "name": "stdout",
     "output_type": "stream",
     "text": [
      "9\n",
      "10\n"
     ]
    }
   ],
   "source": [
    "print(sum(range(5),-1))\n",
    "from numpy import *\n",
    "print(sum(range(5),-1))"
   ]
  },
  {
   "cell_type": "markdown",
   "id": "b5c60cd3",
   "metadata": {},
   "source": [
    "### 27. Consider an integer vector Z, which of these expressions are legal? (★☆☆)"
   ]
  },
  {
   "cell_type": "code",
   "execution_count": 119,
   "id": "84ccd63e",
   "metadata": {},
   "outputs": [
    {
     "ename": "ValueError",
     "evalue": "Integers to negative integer powers are not allowed.",
     "output_type": "error",
     "traceback": [
      "\u001b[1;31m---------------------------------------------------------------------------\u001b[0m",
      "\u001b[1;31mValueError\u001b[0m                                Traceback (most recent call last)",
      "Cell \u001b[1;32mIn[119], line 1\u001b[0m\n\u001b[1;32m----> 1\u001b[0m Z\u001b[38;5;241m*\u001b[39m\u001b[38;5;241m*\u001b[39mZ\n\u001b[0;32m      2\u001b[0m \u001b[38;5;241m2\u001b[39m \u001b[38;5;241m<<\u001b[39m Z \u001b[38;5;241m>>\u001b[39m \u001b[38;5;241m2\u001b[39m\n\u001b[0;32m      3\u001b[0m Z \u001b[38;5;241m<\u001b[39m\u001b[38;5;241m-\u001b[39m Z\n",
      "\u001b[1;31mValueError\u001b[0m: Integers to negative integer powers are not allowed."
     ]
    }
   ],
   "source": [
    "Z**Z\n",
    "2 << Z >> 2\n",
    "Z <- Z\n",
    "1j*Z\n",
    "Z/1/1\n",
    "Z<Z>Z"
   ]
  },
  {
   "cell_type": "markdown",
   "id": "229a5583",
   "metadata": {},
   "source": [
    "### 28. What are the result of the following expressions?"
   ]
  },
  {
   "cell_type": "code",
   "execution_count": 120,
   "id": "b047ddb8",
   "metadata": {},
   "outputs": [
    {
     "name": "stderr",
     "output_type": "stream",
     "text": [
      "C:\\Users\\hp\\AppData\\Local\\Temp\\ipykernel_15996\\548293649.py:1: RuntimeWarning: invalid value encountered in divide\n",
      "  np.array(0) / np.array(0)\n",
      "C:\\Users\\hp\\AppData\\Local\\Temp\\ipykernel_15996\\548293649.py:2: RuntimeWarning: divide by zero encountered in floor_divide\n",
      "  np.array(0) // np.array(0)\n",
      "C:\\Users\\hp\\AppData\\Local\\Temp\\ipykernel_15996\\548293649.py:3: RuntimeWarning: invalid value encountered in cast\n",
      "  np.array([np.nan]).astype(int).astype(float)\n"
     ]
    },
    {
     "data": {
      "text/plain": [
       "array([-2.14748365e+09])"
      ]
     },
     "execution_count": 120,
     "metadata": {},
     "output_type": "execute_result"
    }
   ],
   "source": [
    "np.array(0) / np.array(0)\n",
    "np.array(0) // np.array(0)\n",
    "np.array([np.nan]).astype(int).astype(float)"
   ]
  },
  {
   "cell_type": "markdown",
   "id": "3f50936f",
   "metadata": {},
   "source": [
    "### 29. How to round away from zero a float array ? (★☆☆)"
   ]
  },
  {
   "cell_type": "code",
   "execution_count": 121,
   "id": "fd7b0cc7",
   "metadata": {},
   "outputs": [
    {
     "name": "stdout",
     "output_type": "stream",
     "text": [
      "[10.  8. -9. -2.  3. -2. -8.  8. -9. -8.]\n"
     ]
    }
   ],
   "source": [
    "Z = np.random.uniform(-10,+10,10)\n",
    "print (np.copysign(np.ceil(np.abs(Z)), Z))"
   ]
  },
  {
   "cell_type": "markdown",
   "id": "92a7c627",
   "metadata": {},
   "source": [
    "### 30. How to find common values between two arrays? (★☆☆)"
   ]
  },
  {
   "cell_type": "code",
   "execution_count": 122,
   "id": "8a1d2b0a",
   "metadata": {},
   "outputs": [
    {
     "name": "stdout",
     "output_type": "stream",
     "text": [
      "[2 6 9]\n"
     ]
    }
   ],
   "source": [
    "Z1 = np.random.randint(0,10,10)\n",
    "Z2 = np.random.randint(0,10,10)\n",
    "print(np.intersect1d(Z1,Z2))"
   ]
  },
  {
   "cell_type": "markdown",
   "id": "209ab107",
   "metadata": {},
   "source": [
    "### 31. How to ignore all numpy warnings (not recommended)? (★☆☆)"
   ]
  },
  {
   "cell_type": "code",
   "execution_count": 123,
   "id": "6222f4aa",
   "metadata": {},
   "outputs": [],
   "source": [
    "with np.errstate(divide='ignore'):\n",
    "    Z = np.ones(1) / 0"
   ]
  },
  {
   "cell_type": "markdown",
   "id": "78822c15",
   "metadata": {},
   "source": [
    "### 32. Is the following expressions true? (★☆☆"
   ]
  },
  {
   "cell_type": "code",
   "execution_count": 126,
   "id": "317e6ed7",
   "metadata": {},
   "outputs": [
    {
     "name": "stderr",
     "output_type": "stream",
     "text": [
      "C:\\Users\\hp\\AppData\\Local\\Temp\\ipykernel_15996\\244602691.py:1: RuntimeWarning: invalid value encountered in sqrt\n",
      "  np.sqrt(-1) == np.emath.sqrt(-1)\n"
     ]
    },
    {
     "data": {
      "text/plain": [
       "False"
      ]
     },
     "execution_count": 126,
     "metadata": {},
     "output_type": "execute_result"
    }
   ],
   "source": [
    "np.sqrt(-1) == np.emath.sqrt(-1)"
   ]
  },
  {
   "cell_type": "markdown",
   "id": "6b29404e",
   "metadata": {},
   "source": [
    "### 33. How to get the dates of yesterday, today and tomorrow? (★☆☆)"
   ]
  },
  {
   "cell_type": "code",
   "execution_count": 127,
   "id": "c042b7c2",
   "metadata": {},
   "outputs": [],
   "source": [
    "yesterday = np.datetime64('today', 'D') - np.timedelta64(1, 'D')\n",
    "today     = np.datetime64('today', 'D')\n",
    "tomorrow  = np.datetime64('today', 'D') + np.timedelta64(1, 'D')\n"
   ]
  },
  {
   "cell_type": "markdown",
   "id": "89b974a7",
   "metadata": {},
   "source": [
    "### 34. How to get all the dates corresponding to the month of July 2016? (★★☆)"
   ]
  },
  {
   "cell_type": "code",
   "execution_count": 128,
   "id": "6985ce5f",
   "metadata": {},
   "outputs": [
    {
     "name": "stdout",
     "output_type": "stream",
     "text": [
      "['2016-07-01' '2016-07-02' '2016-07-03' '2016-07-04' '2016-07-05'\n",
      " '2016-07-06' '2016-07-07' '2016-07-08' '2016-07-09' '2016-07-10'\n",
      " '2016-07-11' '2016-07-12' '2016-07-13' '2016-07-14' '2016-07-15'\n",
      " '2016-07-16' '2016-07-17' '2016-07-18' '2016-07-19' '2016-07-20'\n",
      " '2016-07-21' '2016-07-22' '2016-07-23' '2016-07-24' '2016-07-25'\n",
      " '2016-07-26' '2016-07-27' '2016-07-28' '2016-07-29' '2016-07-30'\n",
      " '2016-07-31']\n"
     ]
    }
   ],
   "source": [
    "Z = np.arange('2016-07', '2016-08', dtype='datetime64[D]')\n",
    "print(Z)"
   ]
  },
  {
   "cell_type": "markdown",
   "id": "27e7e68b",
   "metadata": {},
   "source": [
    "### 35. How to compute ((A+B)*(-A/2)) in place (without copy)? (★★☆)"
   ]
  },
  {
   "cell_type": "code",
   "execution_count": 129,
   "id": "bd3bd618",
   "metadata": {},
   "outputs": [
    {
     "data": {
      "text/plain": [
       "array([-1.5, -1.5, -1.5])"
      ]
     },
     "execution_count": 129,
     "metadata": {},
     "output_type": "execute_result"
    }
   ],
   "source": [
    "A = np.ones(3)*1\n",
    "B = np.ones(3)*2\n",
    "C = np.ones(3)*3\n",
    "np.add(A,B,out=B)\n",
    "np.divide(A,2,out=A)\n",
    "np.negative(A,out=A)\n",
    "np.multiply(A,B,out=A)"
   ]
  },
  {
   "cell_type": "markdown",
   "id": "e3e05a62",
   "metadata": {},
   "source": [
    "### 36. Extract the integer part of a random array of positive numbers using 4 different methods (★★☆)"
   ]
  },
  {
   "cell_type": "code",
   "execution_count": 130,
   "id": "8c7381d8",
   "metadata": {},
   "outputs": [
    {
     "name": "stdout",
     "output_type": "stream",
     "text": [
      "[1. 3. 6. 7. 2. 3. 3. 2. 5. 7.]\n",
      "[1. 3. 6. 7. 2. 3. 3. 2. 5. 7.]\n",
      "[1. 3. 6. 7. 2. 3. 3. 2. 5. 7.]\n",
      "[1 3 6 7 2 3 3 2 5 7]\n"
     ]
    }
   ],
   "source": [
    "Z = np.random.uniform(0,10,10)\n",
    "\n",
    "print (Z - Z%1)\n",
    "print (np.floor(Z))\n",
    "print (np.ceil(Z)-1)\n",
    "print (Z.astype(int))"
   ]
  },
  {
   "cell_type": "markdown",
   "id": "6da5374b",
   "metadata": {},
   "source": [
    "### 37. Create a 5x5 matrix with row values ranging from 0 to 4 (★★☆)"
   ]
  },
  {
   "cell_type": "code",
   "execution_count": 131,
   "id": "0e787c3b",
   "metadata": {},
   "outputs": [
    {
     "name": "stdout",
     "output_type": "stream",
     "text": [
      "[[0. 1. 2. 3. 4.]\n",
      " [0. 1. 2. 3. 4.]\n",
      " [0. 1. 2. 3. 4.]\n",
      " [0. 1. 2. 3. 4.]\n",
      " [0. 1. 2. 3. 4.]]\n"
     ]
    }
   ],
   "source": [
    "Z = np.zeros((5,5))\n",
    "Z += np.arange(5)\n",
    "print(Z)"
   ]
  },
  {
   "cell_type": "markdown",
   "id": "d03466d8",
   "metadata": {},
   "source": [
    "### 38. Consider a generator function that generates 10 integers and use it to build an array (★☆☆)"
   ]
  },
  {
   "cell_type": "code",
   "execution_count": 132,
   "id": "90133302",
   "metadata": {},
   "outputs": [
    {
     "name": "stdout",
     "output_type": "stream",
     "text": [
      "[0. 1. 2. 3. 4. 5. 6. 7. 8. 9.]\n"
     ]
    }
   ],
   "source": [
    "def generate():\n",
    "    for x in range(10):\n",
    "        yield x\n",
    "Z = np.fromiter(generate(),dtype=float,count=-1)\n",
    "print(Z)"
   ]
  },
  {
   "cell_type": "markdown",
   "id": "516658e4",
   "metadata": {},
   "source": [
    "### 39. Create a vector of size 10 with values ranging from 0 to 1, both excluded (★★☆)"
   ]
  },
  {
   "cell_type": "code",
   "execution_count": 133,
   "id": "444cd355",
   "metadata": {},
   "outputs": [
    {
     "name": "stdout",
     "output_type": "stream",
     "text": [
      "[0.09090909 0.18181818 0.27272727 0.36363636 0.45454545 0.54545455\n",
      " 0.63636364 0.72727273 0.81818182 0.90909091]\n"
     ]
    }
   ],
   "source": [
    "Z = np.linspace(0,1,11,endpoint=False)[1:]\n",
    "print(Z)"
   ]
  },
  {
   "cell_type": "markdown",
   "id": "a5b3e444",
   "metadata": {},
   "source": [
    "### 40. Create a random vector of size 10 and sort it (★★☆)"
   ]
  },
  {
   "cell_type": "code",
   "execution_count": 134,
   "id": "1ecab32c",
   "metadata": {},
   "outputs": [
    {
     "name": "stdout",
     "output_type": "stream",
     "text": [
      "[0.02106318 0.07398814 0.23644385 0.32310708 0.376688   0.39003908\n",
      " 0.42345224 0.83697929 0.84711959 0.95022146]\n"
     ]
    }
   ],
   "source": [
    "Z = np.random.random(10)\n",
    "Z.sort()\n",
    "print(Z)"
   ]
  },
  {
   "cell_type": "markdown",
   "id": "2e07f08e",
   "metadata": {},
   "source": [
    "### 41. How to sum a small array faster than np.sum? (★★☆)"
   ]
  },
  {
   "cell_type": "code",
   "execution_count": 135,
   "id": "26498193",
   "metadata": {},
   "outputs": [
    {
     "data": {
      "text/plain": [
       "45"
      ]
     },
     "execution_count": 135,
     "metadata": {},
     "output_type": "execute_result"
    }
   ],
   "source": [
    "Z = np.arange(10)\n",
    "np.add.reduce(Z)"
   ]
  },
  {
   "cell_type": "markdown",
   "id": "48c1efcc",
   "metadata": {},
   "source": [
    "### 42. Consider two random array A and B, check if they are equal (★★☆)"
   ]
  },
  {
   "cell_type": "code",
   "execution_count": 136,
   "id": "a6838811",
   "metadata": {},
   "outputs": [
    {
     "name": "stdout",
     "output_type": "stream",
     "text": [
      "False\n",
      "False\n"
     ]
    }
   ],
   "source": [
    "A = np.random.randint(0,2,5)\n",
    "B = np.random.randint(0,2,5)\n",
    "\n",
    "# Assuming identical shape of the arrays and a tolerance for the comparison of values\n",
    "equal = np.allclose(A,B)\n",
    "print(equal)\n",
    "\n",
    "# Checking both the shape and the element values, no tolerance (values have to be exactly equal)\n",
    "equal = np.array_equal(A,B)\n",
    "print(equal)"
   ]
  },
  {
   "cell_type": "markdown",
   "id": "411ccd14",
   "metadata": {},
   "source": [
    "### 43. Make an array immutable (read-only) (★★☆)"
   ]
  },
  {
   "cell_type": "code",
   "execution_count": 137,
   "id": "90c612a9",
   "metadata": {},
   "outputs": [
    {
     "ename": "ValueError",
     "evalue": "assignment destination is read-only",
     "output_type": "error",
     "traceback": [
      "\u001b[1;31m---------------------------------------------------------------------------\u001b[0m",
      "\u001b[1;31mValueError\u001b[0m                                Traceback (most recent call last)",
      "Cell \u001b[1;32mIn[137], line 3\u001b[0m\n\u001b[0;32m      1\u001b[0m Z \u001b[38;5;241m=\u001b[39m np\u001b[38;5;241m.\u001b[39mzeros(\u001b[38;5;241m10\u001b[39m)\n\u001b[0;32m      2\u001b[0m Z\u001b[38;5;241m.\u001b[39mflags\u001b[38;5;241m.\u001b[39mwriteable \u001b[38;5;241m=\u001b[39m \u001b[38;5;28;01mFalse\u001b[39;00m\n\u001b[1;32m----> 3\u001b[0m Z[\u001b[38;5;241m0\u001b[39m] \u001b[38;5;241m=\u001b[39m \u001b[38;5;241m1\u001b[39m\n",
      "\u001b[1;31mValueError\u001b[0m: assignment destination is read-only"
     ]
    }
   ],
   "source": [
    "Z = np.zeros(10)\n",
    "Z.flags.writeable = False\n",
    "Z[0] = 1"
   ]
  },
  {
   "cell_type": "markdown",
   "id": "4146e2a1",
   "metadata": {},
   "source": [
    "### 44. Consider a random 10x2 matrix representing cartesian coordinates, convert them to polar coordinates (★★☆)"
   ]
  },
  {
   "cell_type": "code",
   "execution_count": 138,
   "id": "9f89e541",
   "metadata": {},
   "outputs": [
    {
     "name": "stdout",
     "output_type": "stream",
     "text": [
      "[0.91195124 0.97650101 0.60624993 0.84234999 0.92163336 1.06163407\n",
      " 1.29447919 0.67254698 0.10019777 0.56225827]\n",
      "[1.43767072 0.73671252 0.00917841 0.23694829 1.43799516 0.47659298\n",
      " 0.72691242 0.97272723 0.7355969  0.65902356]\n"
     ]
    }
   ],
   "source": [
    "Z = np.random.random((10,2))\n",
    "X,Y = Z[:,0], Z[:,1]\n",
    "R = np.sqrt(X**2+Y**2)\n",
    "T = np.arctan2(Y,X)\n",
    "print(R)\n",
    "print(T)"
   ]
  },
  {
   "cell_type": "markdown",
   "id": "84fdf04c",
   "metadata": {},
   "source": [
    "### 45. Create random vector of size 10 and replace the maximum value by 0 (★★☆)"
   ]
  },
  {
   "cell_type": "code",
   "execution_count": 139,
   "id": "79e051e3",
   "metadata": {},
   "outputs": [
    {
     "name": "stdout",
     "output_type": "stream",
     "text": [
      "[0.         0.86240891 0.30587334 0.30946448 0.02406389 0.46609006\n",
      " 0.01621958 0.31363856 0.79037896 0.00578665]\n"
     ]
    }
   ],
   "source": [
    "Z = np.random.random(10)\n",
    "Z[Z.argmax()] = 0\n",
    "print(Z)"
   ]
  },
  {
   "cell_type": "markdown",
   "id": "4a43f138",
   "metadata": {},
   "source": [
    "### 46. Create a structured array with x and y coordinates covering the [0,1]x[0,1] area (★★☆)"
   ]
  },
  {
   "cell_type": "code",
   "execution_count": 140,
   "id": "e317ee81",
   "metadata": {},
   "outputs": [
    {
     "name": "stdout",
     "output_type": "stream",
     "text": [
      "[[(0.  , 0.  ) (0.25, 0.  ) (0.5 , 0.  ) (0.75, 0.  ) (1.  , 0.  )]\n",
      " [(0.  , 0.25) (0.25, 0.25) (0.5 , 0.25) (0.75, 0.25) (1.  , 0.25)]\n",
      " [(0.  , 0.5 ) (0.25, 0.5 ) (0.5 , 0.5 ) (0.75, 0.5 ) (1.  , 0.5 )]\n",
      " [(0.  , 0.75) (0.25, 0.75) (0.5 , 0.75) (0.75, 0.75) (1.  , 0.75)]\n",
      " [(0.  , 1.  ) (0.25, 1.  ) (0.5 , 1.  ) (0.75, 1.  ) (1.  , 1.  )]]\n"
     ]
    }
   ],
   "source": [
    "Z = np.zeros((5,5), [('x',float),('y',float)])\n",
    "Z['x'], Z['y'] = np.meshgrid(np.linspace(0,1,5),\n",
    "                             np.linspace(0,1,5))\n",
    "print(Z)"
   ]
  },
  {
   "cell_type": "markdown",
   "id": "c3a54ea9",
   "metadata": {},
   "source": [
    "### 47. Given two arrays, X and Y, construct the Cauchy matrix C (Cij =1/(xi - yj))"
   ]
  },
  {
   "cell_type": "code",
   "execution_count": 141,
   "id": "2c34b036",
   "metadata": {},
   "outputs": [
    {
     "name": "stdout",
     "output_type": "stream",
     "text": [
      "3638.1636371179666\n"
     ]
    }
   ],
   "source": [
    "X = np.arange(8)\n",
    "Y = X + 0.5\n",
    "C = 1.0 / np.subtract.outer(X, Y)\n",
    "print(np.linalg.det(C))"
   ]
  },
  {
   "cell_type": "markdown",
   "id": "ffe136ac",
   "metadata": {},
   "source": [
    "### 48. Print the minimum and maximum representable value for each numpy scalar type (★★☆)"
   ]
  },
  {
   "cell_type": "code",
   "execution_count": 142,
   "id": "eb24178b",
   "metadata": {},
   "outputs": [
    {
     "name": "stdout",
     "output_type": "stream",
     "text": [
      "-128\n",
      "127\n",
      "-2147483648\n",
      "2147483647\n",
      "-9223372036854775808\n",
      "9223372036854775807\n",
      "-3.4028235e+38\n",
      "3.4028235e+38\n",
      "1.1920929e-07\n",
      "-1.7976931348623157e+308\n",
      "1.7976931348623157e+308\n",
      "2.220446049250313e-16\n"
     ]
    }
   ],
   "source": [
    "for dtype in [np.int8, np.int32, np.int64]:\n",
    "   print(np.iinfo(dtype).min)\n",
    "   print(np.iinfo(dtype).max)\n",
    "for dtype in [np.float32, np.float64]:\n",
    "   print(np.finfo(dtype).min)\n",
    "   print(np.finfo(dtype).max)\n",
    "   print(np.finfo(dtype).eps)"
   ]
  },
  {
   "cell_type": "markdown",
   "id": "7d87d6cb",
   "metadata": {},
   "source": [
    "### 49. How to print all the values of an array?"
   ]
  },
  {
   "cell_type": "code",
   "execution_count": 143,
   "id": "2a39750a",
   "metadata": {},
   "outputs": [
    {
     "ename": "ValueError",
     "evalue": "threshold must be non-NAN, try sys.maxsize for untruncated representation",
     "output_type": "error",
     "traceback": [
      "\u001b[1;31m---------------------------------------------------------------------------\u001b[0m",
      "\u001b[1;31mValueError\u001b[0m                                Traceback (most recent call last)",
      "Cell \u001b[1;32mIn[143], line 1\u001b[0m\n\u001b[1;32m----> 1\u001b[0m np\u001b[38;5;241m.\u001b[39mset_printoptions(threshold\u001b[38;5;241m=\u001b[39mnp\u001b[38;5;241m.\u001b[39mnan)\n\u001b[0;32m      2\u001b[0m Z \u001b[38;5;241m=\u001b[39m np\u001b[38;5;241m.\u001b[39mzeros((\u001b[38;5;241m16\u001b[39m,\u001b[38;5;241m16\u001b[39m))\n\u001b[0;32m      3\u001b[0m \u001b[38;5;28mprint\u001b[39m(Z)\n",
      "File \u001b[1;32mF:\\Anaconda\\Lib\\site-packages\\numpy\\core\\arrayprint.py:277\u001b[0m, in \u001b[0;36mset_printoptions\u001b[1;34m(precision, threshold, edgeitems, linewidth, suppress, nanstr, infstr, formatter, sign, floatmode, legacy)\u001b[0m\n\u001b[0;32m    116\u001b[0m \u001b[38;5;129m@set_module\u001b[39m(\u001b[38;5;124m'\u001b[39m\u001b[38;5;124mnumpy\u001b[39m\u001b[38;5;124m'\u001b[39m)\n\u001b[0;32m    117\u001b[0m \u001b[38;5;28;01mdef\u001b[39;00m \u001b[38;5;21mset_printoptions\u001b[39m(precision\u001b[38;5;241m=\u001b[39m\u001b[38;5;28;01mNone\u001b[39;00m, threshold\u001b[38;5;241m=\u001b[39m\u001b[38;5;28;01mNone\u001b[39;00m, edgeitems\u001b[38;5;241m=\u001b[39m\u001b[38;5;28;01mNone\u001b[39;00m,\n\u001b[0;32m    118\u001b[0m                      linewidth\u001b[38;5;241m=\u001b[39m\u001b[38;5;28;01mNone\u001b[39;00m, suppress\u001b[38;5;241m=\u001b[39m\u001b[38;5;28;01mNone\u001b[39;00m, nanstr\u001b[38;5;241m=\u001b[39m\u001b[38;5;28;01mNone\u001b[39;00m, infstr\u001b[38;5;241m=\u001b[39m\u001b[38;5;28;01mNone\u001b[39;00m,\n\u001b[0;32m    119\u001b[0m                      formatter\u001b[38;5;241m=\u001b[39m\u001b[38;5;28;01mNone\u001b[39;00m, sign\u001b[38;5;241m=\u001b[39m\u001b[38;5;28;01mNone\u001b[39;00m, floatmode\u001b[38;5;241m=\u001b[39m\u001b[38;5;28;01mNone\u001b[39;00m, \u001b[38;5;241m*\u001b[39m, legacy\u001b[38;5;241m=\u001b[39m\u001b[38;5;28;01mNone\u001b[39;00m):\n\u001b[0;32m    120\u001b[0m \u001b[38;5;250m    \u001b[39m\u001b[38;5;124;03m\"\"\"\u001b[39;00m\n\u001b[0;32m    121\u001b[0m \u001b[38;5;124;03m    Set printing options.\u001b[39;00m\n\u001b[0;32m    122\u001b[0m \n\u001b[1;32m   (...)\u001b[0m\n\u001b[0;32m    275\u001b[0m \n\u001b[0;32m    276\u001b[0m \u001b[38;5;124;03m    \"\"\"\u001b[39;00m\n\u001b[1;32m--> 277\u001b[0m     opt \u001b[38;5;241m=\u001b[39m _make_options_dict(precision, threshold, edgeitems, linewidth,\n\u001b[0;32m    278\u001b[0m                              suppress, nanstr, infstr, sign, formatter,\n\u001b[0;32m    279\u001b[0m                              floatmode, legacy)\n\u001b[0;32m    280\u001b[0m     \u001b[38;5;66;03m# formatter is always reset\u001b[39;00m\n\u001b[0;32m    281\u001b[0m     opt[\u001b[38;5;124m'\u001b[39m\u001b[38;5;124mformatter\u001b[39m\u001b[38;5;124m'\u001b[39m] \u001b[38;5;241m=\u001b[39m formatter\n",
      "File \u001b[1;32mF:\\Anaconda\\Lib\\site-packages\\numpy\\core\\arrayprint.py:103\u001b[0m, in \u001b[0;36m_make_options_dict\u001b[1;34m(precision, threshold, edgeitems, linewidth, suppress, nanstr, infstr, sign, formatter, floatmode, legacy)\u001b[0m\n\u001b[0;32m    101\u001b[0m         \u001b[38;5;28;01mraise\u001b[39;00m \u001b[38;5;167;01mTypeError\u001b[39;00m(\u001b[38;5;124m\"\u001b[39m\u001b[38;5;124mthreshold must be numeric\u001b[39m\u001b[38;5;124m\"\u001b[39m)\n\u001b[0;32m    102\u001b[0m     \u001b[38;5;28;01mif\u001b[39;00m np\u001b[38;5;241m.\u001b[39misnan(threshold):\n\u001b[1;32m--> 103\u001b[0m         \u001b[38;5;28;01mraise\u001b[39;00m \u001b[38;5;167;01mValueError\u001b[39;00m(\u001b[38;5;124m\"\u001b[39m\u001b[38;5;124mthreshold must be non-NAN, try \u001b[39m\u001b[38;5;124m\"\u001b[39m\n\u001b[0;32m    104\u001b[0m                          \u001b[38;5;124m\"\u001b[39m\u001b[38;5;124msys.maxsize for untruncated representation\u001b[39m\u001b[38;5;124m\"\u001b[39m)\n\u001b[0;32m    106\u001b[0m \u001b[38;5;28;01mif\u001b[39;00m precision \u001b[38;5;129;01mis\u001b[39;00m \u001b[38;5;129;01mnot\u001b[39;00m \u001b[38;5;28;01mNone\u001b[39;00m:\n\u001b[0;32m    107\u001b[0m     \u001b[38;5;66;03m# forbid the bad precision arg as suggested by issue #18254\u001b[39;00m\n\u001b[0;32m    108\u001b[0m     \u001b[38;5;28;01mtry\u001b[39;00m:\n",
      "\u001b[1;31mValueError\u001b[0m: threshold must be non-NAN, try sys.maxsize for untruncated representation"
     ]
    }
   ],
   "source": [
    "np.set_printoptions(threshold=np.nan)\n",
    "Z = np.zeros((16,16))\n",
    "print(Z)"
   ]
  },
  {
   "cell_type": "markdown",
   "id": "9923d380",
   "metadata": {},
   "source": [
    "### 50. How to find the closest value (to a given scalar) in a vector? (★★☆)"
   ]
  },
  {
   "cell_type": "code",
   "execution_count": 144,
   "id": "bef24513",
   "metadata": {},
   "outputs": [
    {
     "name": "stdout",
     "output_type": "stream",
     "text": [
      "61\n"
     ]
    }
   ],
   "source": [
    "Z = np.arange(100)\n",
    "v = np.random.uniform(0,100)\n",
    "index = (np.abs(Z-v)).argmin()\n",
    "print(Z[index])"
   ]
  },
  {
   "cell_type": "markdown",
   "id": "a12bc2b2",
   "metadata": {},
   "source": [
    "### 51. Create a structured array representing a position (x,y) and a color (r,g,b) (★★☆)"
   ]
  },
  {
   "cell_type": "code",
   "execution_count": 145,
   "id": "86c5852e",
   "metadata": {},
   "outputs": [
    {
     "name": "stdout",
     "output_type": "stream",
     "text": [
      "[((0., 0.), (0., 0., 0.)) ((0., 0.), (0., 0., 0.))\n",
      " ((0., 0.), (0., 0., 0.)) ((0., 0.), (0., 0., 0.))\n",
      " ((0., 0.), (0., 0., 0.)) ((0., 0.), (0., 0., 0.))\n",
      " ((0., 0.), (0., 0., 0.)) ((0., 0.), (0., 0., 0.))\n",
      " ((0., 0.), (0., 0., 0.)) ((0., 0.), (0., 0., 0.))]\n"
     ]
    },
    {
     "name": "stderr",
     "output_type": "stream",
     "text": [
      "C:\\Users\\hp\\AppData\\Local\\Temp\\ipykernel_15996\\274409719.py:1: FutureWarning: Passing (type, 1) or '1type' as a synonym of type is deprecated; in a future version of numpy, it will be understood as (type, (1,)) / '(1,)type'.\n",
      "  Z = np.zeros(10, [ ('position', [ ('x', float, 1),\n"
     ]
    }
   ],
   "source": [
    "Z = np.zeros(10, [ ('position', [ ('x', float, 1),\n",
    "                                  ('y', float, 1)]),\n",
    "                   ('color',    [ ('r', float, 1),\n",
    "                                  ('g', float, 1),\n",
    "                                  ('b', float, 1)])])\n",
    "print(Z)"
   ]
  },
  {
   "cell_type": "markdown",
   "id": "a516755a",
   "metadata": {},
   "source": [
    "### 52. Consider a random vector with shape (100,2) representing coordinates, find point by point distances (★★☆)"
   ]
  },
  {
   "cell_type": "code",
   "execution_count": 146,
   "id": "427e6302",
   "metadata": {},
   "outputs": [
    {
     "name": "stdout",
     "output_type": "stream",
     "text": [
      "[[0.         0.72550722 1.05339483 0.17405209 0.75955587 0.26149792\n",
      "  0.64137805 0.45970362 1.0884803  0.72832153]\n",
      " [0.72550722 0.         0.63483917 0.58610923 0.64120691 0.48253457\n",
      "  0.4001497  0.26617963 0.60154009 0.65811136]\n",
      " [1.05339483 0.63483917 0.         0.87979712 0.37405934 0.81013155\n",
      "  0.41411451 0.7442885  0.09825569 0.42132211]\n",
      " [0.17405209 0.58610923 0.87979712 0.         0.59724521 0.10359206\n",
      "  0.46735424 0.3297245  0.91446839 0.56979896]\n",
      " [0.75955587 0.64120691 0.37405934 0.59724521 0.         0.56077848\n",
      "  0.24587466 0.60260432 0.45360553 0.04726939]\n",
      " [0.26149792 0.48253457 0.81013155 0.10359206 0.56077848 0.\n",
      "  0.39629029 0.22854791 0.83690053 0.54038891]\n",
      " [0.64137805 0.4001497  0.41411451 0.46735424 0.24587466 0.39629029\n",
      "  0.         0.37156355 0.44806215 0.25835258]\n",
      " [0.45970362 0.26617963 0.7442885  0.3297245  0.60260432 0.22854791\n",
      "  0.37156355 0.         0.74441499 0.59994938]\n",
      " [1.0884803  0.60154009 0.09825569 0.91446839 0.45360553 0.83690053\n",
      "  0.44806215 0.74441499 0.         0.50055472]\n",
      " [0.72832153 0.65811136 0.42132211 0.56979896 0.04726939 0.54038891\n",
      "  0.25835258 0.59994938 0.50055472 0.        ]]\n",
      "[[0.         0.35471357 0.76478609 0.30158466 0.57424655 0.18323575\n",
      "  0.76428051 0.77621155 0.63255013 0.41073619]\n",
      " [0.35471357 0.         0.45940904 0.59597902 0.59738503 0.25286508\n",
      "  0.40961151 0.44753108 0.42077793 0.393291  ]\n",
      " [0.76478609 0.45940904 0.         0.9020011  1.02506607 0.59564443\n",
      "  0.31271089 0.0875219  0.72760543 0.83109394]\n",
      " [0.30158466 0.59597902 0.9020011  0.         0.85513476 0.34616022\n",
      "  0.9886224  0.93948194 0.93056562 0.70874141]\n",
      " [0.57424655 0.59738503 1.02506607 0.85513476 0.         0.68153007\n",
      "  0.8314601  0.98513683 0.38695897 0.20515914]\n",
      " [0.18323575 0.25286508 0.59564443 0.34616022 0.68153007 0.\n",
      "  0.64361965 0.61725083 0.63270412 0.48874257]\n",
      " [0.76428051 0.40961151 0.31271089 0.9886224  0.8314601  0.64361965\n",
      "  0.         0.2299367  0.47487964 0.66718389]\n",
      " [0.77621155 0.44753108 0.0875219  0.93948194 0.98513683 0.61725083\n",
      "  0.2299367  0.         0.66763234 0.7977788 ]\n",
      " [0.63255013 0.42077793 0.72760543 0.93056562 0.38695897 0.63270412\n",
      "  0.47487964 0.66763234 0.         0.29703395]\n",
      " [0.41073619 0.393291   0.83109394 0.70874141 0.20515914 0.48874257\n",
      "  0.66718389 0.7977788  0.29703395 0.        ]]\n"
     ]
    }
   ],
   "source": [
    "Z = np.random.random((10,2))\n",
    "X,Y = np.atleast_2d(Z[:,0], Z[:,1])\n",
    "D = np.sqrt( (X-X.T)**2 + (Y-Y.T)**2)\n",
    "print(D)\n",
    "\n",
    "# Much faster with scipy\n",
    "import scipy\n",
    "# Thanks Gavin Heverly-Coulson (#issue 1)\n",
    "import scipy.spatial\n",
    "\n",
    "Z = np.random.random((10,2))\n",
    "D = scipy.spatial.distance.cdist(Z,Z)\n",
    "print(D)"
   ]
  },
  {
   "cell_type": "markdown",
   "id": "000e0929",
   "metadata": {},
   "source": [
    "### 53. How to convert a float (32 bits) array into an integer (32 bits) in place?"
   ]
  },
  {
   "cell_type": "code",
   "execution_count": 147,
   "id": "72732778",
   "metadata": {},
   "outputs": [
    {
     "name": "stdout",
     "output_type": "stream",
     "text": [
      "[0. 1. 2. 3. 4. 5. 6. 7. 8. 9.]\n"
     ]
    }
   ],
   "source": [
    "Z = np.arange(10, dtype=np.int32)\n",
    "Z = Z.astype(np.float32, copy=False)\n",
    "print(Z)"
   ]
  },
  {
   "cell_type": "markdown",
   "id": "b8ce3c56",
   "metadata": {},
   "source": [
    "### 54. How to read the following file? (★★☆)"
   ]
  },
  {
   "cell_type": "code",
   "execution_count": 148,
   "id": "b14e35c6",
   "metadata": {},
   "outputs": [
    {
     "name": "stdout",
     "output_type": "stream",
     "text": [
      "[[ 1  2  3  4  5]\n",
      " [ 6 -1 -1  7  8]\n",
      " [-1 -1  9 10 11]]\n"
     ]
    }
   ],
   "source": [
    "from io import StringIO\n",
    "\n",
    "s = StringIO(\"\"\"1, 2, 3, 4, 5\\n\n",
    "                6,  ,  , 7, 8\\n\n",
    "                 ,  , 9,10,11\\n\"\"\")\n",
    "Z = np.genfromtxt(s, delimiter=\",\", dtype=np.int32)\n",
    "print(Z)"
   ]
  },
  {
   "cell_type": "markdown",
   "id": "cec8f88a",
   "metadata": {},
   "source": [
    "### 55. What is the equivalent of enumerate for numpy arrays? (★★☆)"
   ]
  },
  {
   "cell_type": "code",
   "execution_count": 149,
   "id": "afcad1aa",
   "metadata": {},
   "outputs": [
    {
     "name": "stdout",
     "output_type": "stream",
     "text": [
      "(0, 0) 0\n",
      "(0, 1) 1\n",
      "(0, 2) 2\n",
      "(1, 0) 3\n",
      "(1, 1) 4\n",
      "(1, 2) 5\n",
      "(2, 0) 6\n",
      "(2, 1) 7\n",
      "(2, 2) 8\n",
      "(0, 0) 0\n",
      "(0, 1) 1\n",
      "(0, 2) 2\n",
      "(1, 0) 3\n",
      "(1, 1) 4\n",
      "(1, 2) 5\n",
      "(2, 0) 6\n",
      "(2, 1) 7\n",
      "(2, 2) 8\n"
     ]
    }
   ],
   "source": [
    "Z = np.arange(9).reshape(3,3)\n",
    "for index, value in np.ndenumerate(Z):\n",
    "    print(index, value)\n",
    "for index in np.ndindex(Z.shape):\n",
    "    print(index, Z[index])"
   ]
  },
  {
   "cell_type": "markdown",
   "id": "2bb71883",
   "metadata": {},
   "source": [
    "### 56. Generate a generic 2D Gaussian-like array (★★☆)"
   ]
  },
  {
   "cell_type": "code",
   "execution_count": 150,
   "id": "833d8ead",
   "metadata": {},
   "outputs": [
    {
     "name": "stdout",
     "output_type": "stream",
     "text": [
      "[[0.36787944 0.44822088 0.51979489 0.57375342 0.60279818 0.60279818\n",
      "  0.57375342 0.51979489 0.44822088 0.36787944]\n",
      " [0.44822088 0.54610814 0.63331324 0.69905581 0.73444367 0.73444367\n",
      "  0.69905581 0.63331324 0.54610814 0.44822088]\n",
      " [0.51979489 0.63331324 0.73444367 0.81068432 0.85172308 0.85172308\n",
      "  0.81068432 0.73444367 0.63331324 0.51979489]\n",
      " [0.57375342 0.69905581 0.81068432 0.89483932 0.9401382  0.9401382\n",
      "  0.89483932 0.81068432 0.69905581 0.57375342]\n",
      " [0.60279818 0.73444367 0.85172308 0.9401382  0.98773022 0.98773022\n",
      "  0.9401382  0.85172308 0.73444367 0.60279818]\n",
      " [0.60279818 0.73444367 0.85172308 0.9401382  0.98773022 0.98773022\n",
      "  0.9401382  0.85172308 0.73444367 0.60279818]\n",
      " [0.57375342 0.69905581 0.81068432 0.89483932 0.9401382  0.9401382\n",
      "  0.89483932 0.81068432 0.69905581 0.57375342]\n",
      " [0.51979489 0.63331324 0.73444367 0.81068432 0.85172308 0.85172308\n",
      "  0.81068432 0.73444367 0.63331324 0.51979489]\n",
      " [0.44822088 0.54610814 0.63331324 0.69905581 0.73444367 0.73444367\n",
      "  0.69905581 0.63331324 0.54610814 0.44822088]\n",
      " [0.36787944 0.44822088 0.51979489 0.57375342 0.60279818 0.60279818\n",
      "  0.57375342 0.51979489 0.44822088 0.36787944]]\n"
     ]
    }
   ],
   "source": [
    "X, Y = np.meshgrid(np.linspace(-1,1,10), np.linspace(-1,1,10))\n",
    "D = np.sqrt(X*X+Y*Y)\n",
    "sigma, mu = 1.0, 0.0\n",
    "G = np.exp(-( (D-mu)**2 / ( 2.0 * sigma**2 ) ) )\n",
    "print(G)"
   ]
  },
  {
   "cell_type": "markdown",
   "id": "6437f772",
   "metadata": {},
   "source": [
    "### 57. How to randomly place p elements in a 2D array? (★★☆)"
   ]
  },
  {
   "cell_type": "code",
   "execution_count": 152,
   "id": "2439595a",
   "metadata": {},
   "outputs": [
    {
     "name": "stdout",
     "output_type": "stream",
     "text": [
      "[[0. 0. 0. 0. 0. 0. 0. 0. 0. 0.]\n",
      " [0. 0. 0. 0. 0. 0. 0. 0. 0. 0.]\n",
      " [0. 1. 0. 0. 0. 0. 0. 0. 0. 0.]\n",
      " [0. 0. 0. 0. 0. 0. 0. 0. 0. 0.]\n",
      " [0. 0. 0. 0. 0. 0. 0. 0. 0. 0.]\n",
      " [0. 0. 0. 0. 0. 0. 0. 0. 0. 0.]\n",
      " [0. 1. 0. 0. 0. 0. 0. 0. 0. 0.]\n",
      " [0. 0. 0. 0. 0. 0. 0. 0. 0. 0.]\n",
      " [0. 0. 0. 0. 0. 0. 0. 0. 1. 0.]\n",
      " [0. 0. 0. 0. 0. 0. 0. 0. 0. 0.]]\n"
     ]
    }
   ],
   "source": [
    "n = 10\n",
    "p = 3\n",
    "Z = np.zeros((n,n))\n",
    "np.put(Z, np.random.choice(range(n*n), p, replace=False),1)\n",
    "print(Z)"
   ]
  },
  {
   "cell_type": "markdown",
   "id": "2a752b2d",
   "metadata": {},
   "source": [
    "### 58. Subtract the mean of each row of a matrix (★★☆)"
   ]
  },
  {
   "cell_type": "code",
   "execution_count": 153,
   "id": "aebe166a",
   "metadata": {},
   "outputs": [
    {
     "name": "stdout",
     "output_type": "stream",
     "text": [
      "[[ 0.11947131  0.35513555 -0.42396685 -0.34594852  0.35538008 -0.08686111\n",
      "   0.25436152 -0.24203918 -0.02797663  0.04244381]\n",
      " [ 0.32938209  0.0264567  -0.24732751  0.11380266 -0.47544878 -0.54991612\n",
      "  -0.21460464  0.33601977  0.33091164  0.35072419]\n",
      " [-0.17356369  0.24816063 -0.52466677  0.19378253 -0.26603314  0.00296914\n",
      "   0.31962604 -0.23426063  0.14536998  0.28861592]\n",
      " [-0.25905639 -0.13025733 -0.42349543 -0.47144401  0.34692111  0.11158014\n",
      "   0.25636287  0.08823715  0.13498793  0.34616397]\n",
      " [ 0.29979141  0.12626797 -0.20029381  0.15237563 -0.61890142 -0.06968886\n",
      "   0.37220896  0.01307876 -0.35180996  0.27697132]]\n"
     ]
    }
   ],
   "source": [
    "X = np.random.rand(5, 10)\n",
    "\n",
    "# Recent versions of numpy\n",
    "Y = X - X.mean(axis=1, keepdims=True)\n",
    "\n",
    "# Older versions of numpy\n",
    "Y = X - X.mean(axis=1).reshape(-1, 1)\n",
    "\n",
    "print(Y)"
   ]
  },
  {
   "cell_type": "markdown",
   "id": "76fdaed3",
   "metadata": {},
   "source": [
    "### 59. How to sort an array by the nth column? (★★☆)"
   ]
  },
  {
   "cell_type": "code",
   "execution_count": 154,
   "id": "0ceed2fd",
   "metadata": {},
   "outputs": [
    {
     "name": "stdout",
     "output_type": "stream",
     "text": [
      "[[3 5 3]\n",
      " [1 3 5]\n",
      " [4 5 1]]\n",
      "[[1 3 5]\n",
      " [3 5 3]\n",
      " [4 5 1]]\n"
     ]
    }
   ],
   "source": [
    "Z = np.random.randint(0,10,(3,3))\n",
    "print(Z)\n",
    "print(Z[Z[:,1].argsort()])"
   ]
  },
  {
   "cell_type": "markdown",
   "id": "78653a2b",
   "metadata": {},
   "source": [
    "### 60. How to tell if a given 2D array has null columns? (★★☆)"
   ]
  },
  {
   "cell_type": "code",
   "execution_count": 155,
   "id": "23512055",
   "metadata": {},
   "outputs": [
    {
     "name": "stdout",
     "output_type": "stream",
     "text": [
      "False\n"
     ]
    }
   ],
   "source": [
    "Z = np.random.randint(0,3,(3,10))\n",
    "print((~Z.any(axis=0)).any())"
   ]
  },
  {
   "cell_type": "markdown",
   "id": "62df761b",
   "metadata": {},
   "source": [
    "### 61. Find the nearest value from a given value in an array (★★☆)"
   ]
  },
  {
   "cell_type": "code",
   "execution_count": 156,
   "id": "ef6eb7c1",
   "metadata": {},
   "outputs": [
    {
     "name": "stdout",
     "output_type": "stream",
     "text": [
      "0.47415321937889976\n"
     ]
    }
   ],
   "source": [
    "Z = np.random.uniform(0,1,10)\n",
    "z = 0.5\n",
    "m = Z.flat[np.abs(Z - z).argmin()]\n",
    "print(m)"
   ]
  },
  {
   "cell_type": "markdown",
   "id": "8f757a74",
   "metadata": {},
   "source": [
    "### 62. Considering two arrays with shape (1,3) and (3,1), how to compute their sum using an iterator? (★★☆)"
   ]
  },
  {
   "cell_type": "code",
   "execution_count": 157,
   "id": "6c105a67",
   "metadata": {},
   "outputs": [
    {
     "name": "stdout",
     "output_type": "stream",
     "text": [
      "[[0 1 2]\n",
      " [1 2 3]\n",
      " [2 3 4]]\n"
     ]
    }
   ],
   "source": [
    "A = np.arange(3).reshape(3,1)\n",
    "B = np.arange(3).reshape(1,3)\n",
    "it = np.nditer([A,B,None])\n",
    "for x,y,z in it: z[...] = x + y\n",
    "print(it.operands[2])"
   ]
  },
  {
   "cell_type": "markdown",
   "id": "dfdfebe0",
   "metadata": {},
   "source": [
    "### 63. Create an array class that has a name attribute (★★☆)"
   ]
  },
  {
   "cell_type": "code",
   "execution_count": 158,
   "id": "28d175a0",
   "metadata": {},
   "outputs": [
    {
     "name": "stdout",
     "output_type": "stream",
     "text": [
      "range_10\n"
     ]
    }
   ],
   "source": [
    "class NamedArray(np.ndarray):\n",
    "    def __new__(cls, array, name=\"no name\"):\n",
    "        obj = np.asarray(array).view(cls)\n",
    "        obj.name = name\n",
    "        return obj\n",
    "    def __array_finalize__(self, obj):\n",
    "        if obj is None: return\n",
    "        self.info = getattr(obj, 'name', \"no name\")\n",
    "\n",
    "Z = NamedArray(np.arange(10), \"range_10\")\n",
    "print (Z.name)"
   ]
  },
  {
   "cell_type": "markdown",
   "id": "789d0929",
   "metadata": {},
   "source": [
    "### 64. Consider a given vector, how to add 1 to each element indexed by a second vector (be careful with repeated indices)? (★★★)"
   ]
  },
  {
   "cell_type": "code",
   "execution_count": 159,
   "id": "beca37aa",
   "metadata": {},
   "outputs": [
    {
     "name": "stdout",
     "output_type": "stream",
     "text": [
      "[6. 2. 3. 2. 1. 4. 4. 3. 3. 2.]\n",
      "[11.  3.  5.  3.  1.  7.  7.  5.  5.  3.]\n"
     ]
    }
   ],
   "source": [
    "Z = np.ones(10)\n",
    "I = np.random.randint(0,len(Z),20)\n",
    "Z += np.bincount(I, minlength=len(Z))\n",
    "print(Z)\n",
    "\n",
    "\n",
    "np.add.at(Z, I, 1)\n",
    "print(Z)"
   ]
  },
  {
   "cell_type": "markdown",
   "id": "34313a60",
   "metadata": {},
   "source": [
    "### 65. How to accumulate elements of a vector (X) to an array (F) based on an index list (I)? (★★★)"
   ]
  },
  {
   "cell_type": "code",
   "execution_count": 160,
   "id": "6714e3c5",
   "metadata": {},
   "outputs": [
    {
     "name": "stdout",
     "output_type": "stream",
     "text": [
      "[0. 7. 0. 6. 5. 0. 0. 0. 0. 3.]\n"
     ]
    }
   ],
   "source": [
    "X = [1,2,3,4,5,6]\n",
    "I = [1,3,9,3,4,1]\n",
    "F = np.bincount(I,X)\n",
    "print(F)"
   ]
  },
  {
   "cell_type": "markdown",
   "id": "6bdc3553",
   "metadata": {},
   "source": [
    "### 66. Considering a (w,h,3) image of (dtype=ubyte), compute the number of unique colors (★★★)"
   ]
  },
  {
   "cell_type": "code",
   "execution_count": 161,
   "id": "09fa954b",
   "metadata": {},
   "outputs": [
    {
     "name": "stdout",
     "output_type": "stream",
     "text": [
      "[0 1]\n"
     ]
    }
   ],
   "source": [
    "w,h = 16,16\n",
    "I = np.random.randint(0,2,(h,w,3)).astype(np.ubyte)\n",
    "F = I[...,0]*256*256 + I[...,1]*256 +I[...,2]\n",
    "n = len(np.unique(F))\n",
    "print(np.unique(I))"
   ]
  },
  {
   "cell_type": "markdown",
   "id": "9c15593b",
   "metadata": {},
   "source": [
    "### 67. Considering a four dimensions array, how to get sum over the last two axis at once? (★★★)"
   ]
  },
  {
   "cell_type": "code",
   "execution_count": 162,
   "id": "31078baf",
   "metadata": {},
   "outputs": [
    {
     "name": "stdout",
     "output_type": "stream",
     "text": [
      "[[53 36 56 44]\n",
      " [53 64 59 58]\n",
      " [81 48 51 45]]\n",
      "[[53 36 56 44]\n",
      " [53 64 59 58]\n",
      " [81 48 51 45]]\n"
     ]
    }
   ],
   "source": [
    "A = np.random.randint(0,10,(3,4,3,4))\n",
    "# solution by passing a tuple of axes (introduced in numpy 1.7.0)\n",
    "sum = A.sum(axis=(-2,-1))\n",
    "print(sum)\n",
    "# solution by flattening the last two dimensions into one\n",
    "# (useful for functions that don't accept tuples for axis argument)\n",
    "sum = A.reshape(A.shape[:-2] + (-1,)).sum(axis=-1)\n",
    "print(sum)"
   ]
  },
  {
   "cell_type": "markdown",
   "id": "4ac376e9",
   "metadata": {},
   "source": [
    "### 68. Considering a one-dimensional vector D, how to compute means of subsets of D using a vector S of same size describing subset indices? (★★★)"
   ]
  },
  {
   "cell_type": "code",
   "execution_count": 163,
   "id": "4d161eb0",
   "metadata": {},
   "outputs": [
    {
     "name": "stdout",
     "output_type": "stream",
     "text": [
      "[0.38334304 0.4325403  0.49257193 0.46485131 0.6604024  0.39361789\n",
      " 0.63532717 0.34912879 0.55652467 0.49656432]\n",
      "0    0.383343\n",
      "1    0.432540\n",
      "2    0.492572\n",
      "3    0.464851\n",
      "4    0.660402\n",
      "5    0.393618\n",
      "6    0.635327\n",
      "7    0.349129\n",
      "8    0.556525\n",
      "9    0.496564\n",
      "dtype: float64\n"
     ]
    }
   ],
   "source": [
    "D = np.random.uniform(0,1,100)\n",
    "S = np.random.randint(0,10,100)\n",
    "D_sums = np.bincount(S, weights=D)\n",
    "D_counts = np.bincount(S)\n",
    "D_means = D_sums / D_counts\n",
    "print(D_means)\n",
    "\n",
    "# Pandas solution as a reference due to more intuitive code\n",
    "import pandas as pd\n",
    "print(pd.Series(D).groupby(S).mean())"
   ]
  },
  {
   "cell_type": "markdown",
   "id": "463fefd1",
   "metadata": {},
   "source": [
    "### 69. How to get the diagonal of a dot product? (★★★)"
   ]
  },
  {
   "cell_type": "code",
   "execution_count": 164,
   "id": "c5ada78a",
   "metadata": {},
   "outputs": [
    {
     "data": {
      "text/plain": [
       "array([1.18966234, 1.45033232, 0.8203424 , 0.55419874, 1.41940133])"
      ]
     },
     "execution_count": 164,
     "metadata": {},
     "output_type": "execute_result"
    }
   ],
   "source": [
    "A = np.random.uniform(0,1,(5,5))\n",
    "B = np.random.uniform(0,1,(5,5))\n",
    "\n",
    "# Slow version  \n",
    "np.diag(np.dot(A, B))\n",
    "\n",
    "# Fast version\n",
    "np.sum(A * B.T, axis=1)\n",
    "\n",
    "# Faster version\n",
    "np.einsum(\"ij,ji->i\", A, B)"
   ]
  },
  {
   "cell_type": "markdown",
   "id": "4ca7aa64",
   "metadata": {},
   "source": [
    "### 70. Consider the vector [1, 2, 3, 4, 5], how to build a new vector with 3 consecutive zeros interleaved between each value? (★★★)"
   ]
  },
  {
   "cell_type": "code",
   "execution_count": 165,
   "id": "a1cd935e",
   "metadata": {},
   "outputs": [
    {
     "name": "stdout",
     "output_type": "stream",
     "text": [
      "[1. 0. 0. 0. 2. 0. 0. 0. 3. 0. 0. 0. 4. 0. 0. 0. 5.]\n"
     ]
    }
   ],
   "source": [
    "Z = np.array([1,2,3,4,5])\n",
    "nz = 3\n",
    "Z0 = np.zeros(len(Z) + (len(Z)-1)*(nz))\n",
    "Z0[::nz+1] = Z\n",
    "print(Z0)"
   ]
  },
  {
   "cell_type": "markdown",
   "id": "7b7c70aa",
   "metadata": {},
   "source": [
    "### 71. Consider an array of dimension (5,5,3), how to mulitply it by an array with dimensions (5,5)? (★★★)"
   ]
  },
  {
   "cell_type": "code",
   "execution_count": 167,
   "id": "7c8b5db8",
   "metadata": {},
   "outputs": [
    {
     "name": "stdout",
     "output_type": "stream",
     "text": [
      "[[[2. 2. 2.]\n",
      "  [2. 2. 2.]\n",
      "  [2. 2. 2.]\n",
      "  [2. 2. 2.]\n",
      "  [2. 2. 2.]]\n",
      "\n",
      " [[2. 2. 2.]\n",
      "  [2. 2. 2.]\n",
      "  [2. 2. 2.]\n",
      "  [2. 2. 2.]\n",
      "  [2. 2. 2.]]\n",
      "\n",
      " [[2. 2. 2.]\n",
      "  [2. 2. 2.]\n",
      "  [2. 2. 2.]\n",
      "  [2. 2. 2.]\n",
      "  [2. 2. 2.]]\n",
      "\n",
      " [[2. 2. 2.]\n",
      "  [2. 2. 2.]\n",
      "  [2. 2. 2.]\n",
      "  [2. 2. 2.]\n",
      "  [2. 2. 2.]]\n",
      "\n",
      " [[2. 2. 2.]\n",
      "  [2. 2. 2.]\n",
      "  [2. 2. 2.]\n",
      "  [2. 2. 2.]\n",
      "  [2. 2. 2.]]]\n"
     ]
    }
   ],
   "source": [
    "A = np.ones((5,5,3))\n",
    "B = 2*np.ones((5,5))\n",
    "print(A * B[:,:,None])"
   ]
  },
  {
   "cell_type": "markdown",
   "id": "08ae0504",
   "metadata": {},
   "source": [
    "### 72. How to swap two rows of an array? (★★★)"
   ]
  },
  {
   "cell_type": "code",
   "execution_count": 168,
   "id": "e809fb82",
   "metadata": {},
   "outputs": [
    {
     "name": "stdout",
     "output_type": "stream",
     "text": [
      "[[ 5  6  7  8  9]\n",
      " [ 0  1  2  3  4]\n",
      " [10 11 12 13 14]\n",
      " [15 16 17 18 19]\n",
      " [20 21 22 23 24]]\n"
     ]
    }
   ],
   "source": [
    "A = np.arange(25).reshape(5,5)\n",
    "A[[0,1]] = A[[1,0]]\n",
    "print(A)"
   ]
  },
  {
   "cell_type": "markdown",
   "id": "7653092f",
   "metadata": {},
   "source": [
    "### 73. Consider a set of 10 triplets describing 10 triangles (with shared vertices), find the set of unique line segments composing all the triangles (★★★)"
   ]
  },
  {
   "cell_type": "code",
   "execution_count": 169,
   "id": "72230a05",
   "metadata": {},
   "outputs": [
    {
     "name": "stdout",
     "output_type": "stream",
     "text": [
      "[( 4, 58) ( 4, 99) ( 6, 34) ( 6, 89) (15, 23) (15, 68) (15, 84) (15, 90)\n",
      " (22, 27) (22, 94) (23, 84) (24, 92) (24, 94) (27, 94) (31, 67) (31, 83)\n",
      " (33, 82) (33, 97) (34, 89) (53, 85) (53, 98) (55, 59) (55, 68) (58, 99)\n",
      " (59, 68) (67, 83) (68, 90) (82, 97) (85, 98) (92, 94)]\n"
     ]
    }
   ],
   "source": [
    "faces = np.random.randint(0,100,(10,3))\n",
    "F = np.roll(faces.repeat(2,axis=1),-1,axis=1)\n",
    "F = F.reshape(len(F)*3,2)\n",
    "F = np.sort(F,axis=1)\n",
    "G = F.view( dtype=[('p0',F.dtype),('p1',F.dtype)] )\n",
    "G = np.unique(G)\n",
    "print(G)"
   ]
  },
  {
   "cell_type": "markdown",
   "id": "e06567ee",
   "metadata": {},
   "source": [
    "### 74. Given an array C that is a bincount, how to produce an array A such that np.bincount(A) == C? (★★★)"
   ]
  },
  {
   "cell_type": "code",
   "execution_count": 170,
   "id": "02716651",
   "metadata": {},
   "outputs": [
    {
     "name": "stdout",
     "output_type": "stream",
     "text": [
      "[1 1 2 3 4 4 6]\n"
     ]
    }
   ],
   "source": [
    "C = np.bincount([1,1,2,3,4,4,6])\n",
    "A = np.repeat(np.arange(len(C)), C)\n",
    "print(A)"
   ]
  },
  {
   "cell_type": "markdown",
   "id": "be67408b",
   "metadata": {},
   "source": [
    "### 75. How to compute averages using a sliding window over an array? (★★★)"
   ]
  },
  {
   "cell_type": "code",
   "execution_count": 171,
   "id": "b507fc69",
   "metadata": {},
   "outputs": [
    {
     "name": "stdout",
     "output_type": "stream",
     "text": [
      "[ 1.  2.  3.  4.  5.  6.  7.  8.  9. 10. 11. 12. 13. 14. 15. 16. 17. 18.]\n"
     ]
    }
   ],
   "source": [
    "def moving_average(a, n=3) :\n",
    "    ret = np.cumsum(a, dtype=float)\n",
    "    ret[n:] = ret[n:] - ret[:-n]\n",
    "    return ret[n - 1:] / n\n",
    "Z = np.arange(20)\n",
    "print(moving_average(Z, n=3))"
   ]
  },
  {
   "cell_type": "markdown",
   "id": "dcb74c0b",
   "metadata": {},
   "source": [
    "### 76. Consider a one-dimensional array Z, build a two-dimensional array whose first row is (Z[0],Z[1],Z[2]) and each subsequent row is shifted by 1 (last row should be (Z[-3],Z[-2],Z[-1]) (★★★)"
   ]
  },
  {
   "cell_type": "code",
   "execution_count": 172,
   "id": "91d1d06f",
   "metadata": {},
   "outputs": [
    {
     "name": "stdout",
     "output_type": "stream",
     "text": [
      "[[0 1 2]\n",
      " [1 2 3]\n",
      " [2 3 4]\n",
      " [3 4 5]\n",
      " [4 5 6]\n",
      " [5 6 7]\n",
      " [6 7 8]\n",
      " [7 8 9]]\n"
     ]
    }
   ],
   "source": [
    "from numpy.lib import stride_tricks\n",
    "\n",
    "def rolling(a, window):\n",
    "    shape = (a.size - window + 1, window)\n",
    "    strides = (a.itemsize, a.itemsize)\n",
    "    return stride_tricks.as_strided(a, shape=shape, strides=strides)\n",
    "Z = rolling(np.arange(10), 3)\n",
    "print(Z)"
   ]
  },
  {
   "cell_type": "markdown",
   "id": "a3310027",
   "metadata": {},
   "source": [
    "### 77. How to negate a boolean, or to change the sign of a float inplace? (★★★)"
   ]
  },
  {
   "cell_type": "code",
   "execution_count": 173,
   "id": "746fc055",
   "metadata": {},
   "outputs": [
    {
     "data": {
      "text/plain": [
       "array([-0.38449273,  0.20475824, -0.21705377, -0.55326623,  0.26670855,\n",
       "       -0.4540398 ,  0.441471  ,  0.29843666,  0.33449262, -0.88704297,\n",
       "       -0.53575467,  0.78272692, -0.97535915, -0.35985587, -0.45602696,\n",
       "        0.12720667,  0.10320667, -0.30840035,  0.25424815, -0.49326449,\n",
       "        0.61334217,  0.24615737,  0.86445069,  0.59083543, -0.40137218,\n",
       "       -0.99563659, -0.19174371,  0.88097005,  0.03096126, -0.48170962,\n",
       "        0.23451267, -0.42258957,  0.01371465, -0.96519245, -0.91670105,\n",
       "       -0.4187458 , -0.93444354,  0.91455395,  0.92689633, -0.31627999,\n",
       "        0.69098007, -0.87392269, -0.78309036, -0.09549395, -0.73776177,\n",
       "        0.26885956,  0.1087681 , -0.78235789,  0.08918623, -0.46135774,\n",
       "       -0.54520654,  0.04340096,  0.5294167 , -0.8446689 ,  0.48127957,\n",
       "        0.24329417, -0.14977896,  0.82773195, -0.61281084,  0.43987062,\n",
       "       -0.35054821,  0.45309916, -0.4074265 ,  0.05094923,  0.00754893,\n",
       "        0.95169565,  0.65546973,  0.32964965, -0.78127322,  0.51888876,\n",
       "       -0.52692309,  0.16395923, -0.29599388, -0.52286382,  0.67092693,\n",
       "        0.03804079, -0.69566455, -0.90085059,  0.17589376, -0.39115824,\n",
       "       -0.05342285, -0.27385483,  0.51134905, -0.37657402,  0.70268386,\n",
       "        0.58072208, -0.5551049 ,  0.63719776,  0.82523956,  0.81544187,\n",
       "       -0.54772969, -0.88414426, -0.62897828,  0.48945782, -0.49624805,\n",
       "        0.51855588,  0.70176942,  0.56778333, -0.98561096,  0.11742992])"
      ]
     },
     "execution_count": 173,
     "metadata": {},
     "output_type": "execute_result"
    }
   ],
   "source": [
    "Z = np.random.randint(0,2,100)\n",
    "np.logical_not(Z, out=Z)\n",
    "\n",
    "Z = np.random.uniform(-1.0,1.0,100)\n",
    "np.negative(Z, out=Z)"
   ]
  },
  {
   "cell_type": "markdown",
   "id": "beba10b0",
   "metadata": {},
   "source": [
    "### 78. Consider 2 sets of points P0,P1 describing lines (2d) and a point p, how to compute distance from p to each line i (P0[i],P1[i])? (★★★)"
   ]
  },
  {
   "cell_type": "code",
   "execution_count": 174,
   "id": "b5996ee1",
   "metadata": {},
   "outputs": [
    {
     "name": "stdout",
     "output_type": "stream",
     "text": [
      "[13.35021791  5.52339799 18.00895572  0.58836694 10.79304373  4.58639066\n",
      "  6.95340938  5.86744928  9.63468832  1.78554081]\n"
     ]
    }
   ],
   "source": [
    "def distance(P0, P1, p):\n",
    "    T = P1 - P0\n",
    "    L = (T**2).sum(axis=1)\n",
    "    U = -((P0[:,0]-p[...,0])*T[:,0] + (P0[:,1]-p[...,1])*T[:,1]) / L\n",
    "    U = U.reshape(len(U),1)\n",
    "    D = P0 + U*T - p\n",
    "    return np.sqrt((D**2).sum(axis=1))\n",
    "\n",
    "P0 = np.random.uniform(-10,10,(10,2))\n",
    "P1 = np.random.uniform(-10,10,(10,2))\n",
    "p  = np.random.uniform(-10,10,( 1,2))\n",
    "print(distance(P0, P1, p))"
   ]
  },
  {
   "cell_type": "markdown",
   "id": "dbc7904c",
   "metadata": {},
   "source": [
    "### 79. Consider 2 sets of points P0,P1 describing lines (2d) and a set of points P, how to compute distance from each point j (P[j]) to each line i (P0[i],P1[i])? (★★★)"
   ]
  },
  {
   "cell_type": "code",
   "execution_count": 175,
   "id": "8d316d2b",
   "metadata": {},
   "outputs": [
    {
     "name": "stdout",
     "output_type": "stream",
     "text": [
      "[[ 6.42591055  3.76666766  2.65726265  0.53194812  3.85069554 10.12111787\n",
      "   3.12468304  5.43310978  3.56908044  8.21214858]\n",
      " [ 5.02690237  1.41659415  3.76591044  0.31413495  2.20569952  8.25836131\n",
      "   5.69225496  2.60710993  3.78616878  5.49966748]\n",
      " [ 1.62799228  8.27996944  9.42345028  1.1681348   2.53392215  0.0659037\n",
      "  14.46752425  8.22687151  2.92944509  5.14426864]\n",
      " [10.5721225  12.14700107  0.26189996  2.98221846 11.67198975 16.27996823\n",
      "   7.76781326 16.29955847  1.12164965 18.40802113]\n",
      " [12.62017861  9.00696605  3.58877969  5.08900314  0.38421516 16.03981494\n",
      "   3.73597404  8.85577618  9.19071818 12.35145579]\n",
      " [13.11296906  8.03494007  4.4453296   7.30707823  2.78236588 15.88441493\n",
      "   7.00607091  6.68369725 11.40816947 10.56426618]\n",
      " [ 1.30909966  2.21356845  7.38922203  3.06953643  3.27697861  4.48729947\n",
      "   6.45011067  0.30061222  1.03011841  2.27629299]\n",
      " [ 6.85743714  7.1251414   2.99722642  3.95699566  9.83945844 11.8831777\n",
      "   3.77563274 10.93966243  0.14554285 13.06198727]\n",
      " [ 9.35399114  6.66529874  0.18615109  1.5877031   3.08934093 13.10898863\n",
      "   2.43601947  7.79283137  5.68926205 10.81113065]\n",
      " [ 4.76920277  1.13838272  4.01017618  0.4712274   2.22461984  7.98498211\n",
      "   5.80645068  2.35877118  3.62901837  5.23572546]]\n"
     ]
    }
   ],
   "source": [
    "P0 = np.random.uniform(-10, 10, (10,2))\n",
    "P1 = np.random.uniform(-10,10,(10,2))\n",
    "p = np.random.uniform(-10, 10, (10,2))\n",
    "print(np.array([distance(P0,P1,p_i) for p_i in p]))"
   ]
  },
  {
   "cell_type": "markdown",
   "id": "a8517ce9",
   "metadata": {},
   "source": [
    "### 80. Consider an arbitrary array, write a function that extract a subpart with a fixed shape and centered on a given element (pad with a fill value when necessary) (★★★)"
   ]
  },
  {
   "cell_type": "code",
   "execution_count": 176,
   "id": "a34f6622",
   "metadata": {},
   "outputs": [
    {
     "ename": "IndexError",
     "evalue": "only integers, slices (`:`), ellipsis (`...`), numpy.newaxis (`None`) and integer or boolean arrays are valid indices",
     "output_type": "error",
     "traceback": [
      "\u001b[1;31m---------------------------------------------------------------------------\u001b[0m",
      "\u001b[1;31mIndexError\u001b[0m                                Traceback (most recent call last)",
      "Cell \u001b[1;32mIn[176], line 23\u001b[0m\n\u001b[0;32m     21\u001b[0m r \u001b[38;5;241m=\u001b[39m [\u001b[38;5;28mslice\u001b[39m(start,stop) \u001b[38;5;28;01mfor\u001b[39;00m start,stop \u001b[38;5;129;01min\u001b[39;00m \u001b[38;5;28mzip\u001b[39m(R_start,R_stop)]\n\u001b[0;32m     22\u001b[0m z \u001b[38;5;241m=\u001b[39m [\u001b[38;5;28mslice\u001b[39m(start,stop) \u001b[38;5;28;01mfor\u001b[39;00m start,stop \u001b[38;5;129;01min\u001b[39;00m \u001b[38;5;28mzip\u001b[39m(Z_start,Z_stop)]\n\u001b[1;32m---> 23\u001b[0m R[r] \u001b[38;5;241m=\u001b[39m Z[z]\n\u001b[0;32m     24\u001b[0m \u001b[38;5;28mprint\u001b[39m(Z)\n\u001b[0;32m     25\u001b[0m \u001b[38;5;28mprint\u001b[39m(R)\n",
      "\u001b[1;31mIndexError\u001b[0m: only integers, slices (`:`), ellipsis (`...`), numpy.newaxis (`None`) and integer or boolean arrays are valid indices"
     ]
    }
   ],
   "source": [
    "Z = np.random.randint(0,10,(10,10))\n",
    "shape = (5,5)\n",
    "fill  = 0\n",
    "position = (1,1)\n",
    "\n",
    "R = np.ones(shape, dtype=Z.dtype)*fill\n",
    "P  = np.array(list(position)).astype(int)\n",
    "Rs = np.array(list(R.shape)).astype(int)\n",
    "Zs = np.array(list(Z.shape)).astype(int)\n",
    "\n",
    "R_start = np.zeros((len(shape),)).astype(int)\n",
    "R_stop  = np.array(list(shape)).astype(int)\n",
    "Z_start = (P-Rs//2)\n",
    "Z_stop  = (P+Rs//2)+Rs%2\n",
    "\n",
    "R_start = (R_start - np.minimum(Z_start,0)).tolist()\n",
    "Z_start = (np.maximum(Z_start,0)).tolist()\n",
    "R_stop = np.maximum(R_start, (R_stop - np.maximum(Z_stop-Zs,0))).tolist()\n",
    "Z_stop = (np.minimum(Z_stop,Zs)).tolist()\n",
    "\n",
    "r = [slice(start,stop) for start,stop in zip(R_start,R_stop)]\n",
    "z = [slice(start,stop) for start,stop in zip(Z_start,Z_stop)]\n",
    "R[r] = Z[z]\n",
    "print(Z)\n",
    "print(R)"
   ]
  },
  {
   "cell_type": "markdown",
   "id": "781ca5f1",
   "metadata": {},
   "source": [
    "### 81. Consider an array Z = [1,2,3,4,5,6,7,8,9,10,11,12,13,14], how to generate an array R = [[1,2,3,4], [2,3,4,5], [3,4,5,6], ..., [11,12,13,14]]? (★★★)"
   ]
  },
  {
   "cell_type": "code",
   "execution_count": 177,
   "id": "8a956a7d",
   "metadata": {},
   "outputs": [
    {
     "name": "stdout",
     "output_type": "stream",
     "text": [
      "[[ 1  2  3  4]\n",
      " [ 2  3  4  5]\n",
      " [ 3  4  5  6]\n",
      " [ 4  5  6  7]\n",
      " [ 5  6  7  8]\n",
      " [ 6  7  8  9]\n",
      " [ 7  8  9 10]\n",
      " [ 8  9 10 11]\n",
      " [ 9 10 11 12]\n",
      " [10 11 12 13]\n",
      " [11 12 13 14]]\n"
     ]
    }
   ],
   "source": [
    "Z = np.arange(1,15,dtype=np.uint32)\n",
    "R = stride_tricks.as_strided(Z,(11,4),(4,4))\n",
    "print(R)"
   ]
  },
  {
   "cell_type": "markdown",
   "id": "1f9e857b",
   "metadata": {},
   "source": [
    "### 82. Compute a matrix rank (★★★)"
   ]
  },
  {
   "cell_type": "code",
   "execution_count": 178,
   "id": "8fd8e9fb",
   "metadata": {},
   "outputs": [
    {
     "name": "stdout",
     "output_type": "stream",
     "text": [
      "10\n"
     ]
    }
   ],
   "source": [
    "Z = np.random.uniform(0,1,(10,10))\n",
    "U, S, V = np.linalg.svd(Z) # Singular Value Decomposition\n",
    "rank = np.sum(S > 1e-10)\n",
    "print(rank)"
   ]
  },
  {
   "cell_type": "markdown",
   "id": "c92abe80",
   "metadata": {},
   "source": [
    "### 83. How to find the most frequent value in an array?"
   ]
  },
  {
   "cell_type": "code",
   "execution_count": 179,
   "id": "7bf61a82",
   "metadata": {},
   "outputs": [
    {
     "name": "stdout",
     "output_type": "stream",
     "text": [
      "7\n"
     ]
    }
   ],
   "source": [
    "Z = np.random.randint(0,10,50)\n",
    "print(np.bincount(Z).argmax())"
   ]
  },
  {
   "cell_type": "markdown",
   "id": "e896de25",
   "metadata": {},
   "source": [
    "### 84. Extract all the contiguous 3x3 blocks from a random 10x10 matrix (★★★)"
   ]
  },
  {
   "cell_type": "code",
   "execution_count": 180,
   "id": "27a52f35",
   "metadata": {},
   "outputs": [
    {
     "name": "stdout",
     "output_type": "stream",
     "text": [
      "[[[[0 4 2]\n",
      "   [0 3 1]\n",
      "   [0 0 2]]\n",
      "\n",
      "  [[4 2 4]\n",
      "   [3 1 4]\n",
      "   [0 2 0]]\n",
      "\n",
      "  [[2 4 2]\n",
      "   [1 4 0]\n",
      "   [2 0 4]]\n",
      "\n",
      "  [[4 2 2]\n",
      "   [4 0 3]\n",
      "   [0 4 4]]\n",
      "\n",
      "  [[2 2 4]\n",
      "   [0 3 4]\n",
      "   [4 4 3]]\n",
      "\n",
      "  [[2 4 2]\n",
      "   [3 4 1]\n",
      "   [4 3 1]]\n",
      "\n",
      "  [[4 2 1]\n",
      "   [4 1 2]\n",
      "   [3 1 2]]\n",
      "\n",
      "  [[2 1 1]\n",
      "   [1 2 4]\n",
      "   [1 2 1]]]\n",
      "\n",
      "\n",
      " [[[0 3 1]\n",
      "   [0 0 2]\n",
      "   [1 2 4]]\n",
      "\n",
      "  [[3 1 4]\n",
      "   [0 2 0]\n",
      "   [2 4 0]]\n",
      "\n",
      "  [[1 4 0]\n",
      "   [2 0 4]\n",
      "   [4 0 3]]\n",
      "\n",
      "  [[4 0 3]\n",
      "   [0 4 4]\n",
      "   [0 3 3]]\n",
      "\n",
      "  [[0 3 4]\n",
      "   [4 4 3]\n",
      "   [3 3 0]]\n",
      "\n",
      "  [[3 4 1]\n",
      "   [4 3 1]\n",
      "   [3 0 2]]\n",
      "\n",
      "  [[4 1 2]\n",
      "   [3 1 2]\n",
      "   [0 2 0]]\n",
      "\n",
      "  [[1 2 4]\n",
      "   [1 2 1]\n",
      "   [2 0 0]]]\n",
      "\n",
      "\n",
      " [[[0 0 2]\n",
      "   [1 2 4]\n",
      "   [0 1 0]]\n",
      "\n",
      "  [[0 2 0]\n",
      "   [2 4 0]\n",
      "   [1 0 2]]\n",
      "\n",
      "  [[2 0 4]\n",
      "   [4 0 3]\n",
      "   [0 2 1]]\n",
      "\n",
      "  [[0 4 4]\n",
      "   [0 3 3]\n",
      "   [2 1 4]]\n",
      "\n",
      "  [[4 4 3]\n",
      "   [3 3 0]\n",
      "   [1 4 2]]\n",
      "\n",
      "  [[4 3 1]\n",
      "   [3 0 2]\n",
      "   [4 2 1]]\n",
      "\n",
      "  [[3 1 2]\n",
      "   [0 2 0]\n",
      "   [2 1 1]]\n",
      "\n",
      "  [[1 2 1]\n",
      "   [2 0 0]\n",
      "   [1 1 3]]]\n",
      "\n",
      "\n",
      " [[[1 2 4]\n",
      "   [0 1 0]\n",
      "   [0 1 4]]\n",
      "\n",
      "  [[2 4 0]\n",
      "   [1 0 2]\n",
      "   [1 4 2]]\n",
      "\n",
      "  [[4 0 3]\n",
      "   [0 2 1]\n",
      "   [4 2 2]]\n",
      "\n",
      "  [[0 3 3]\n",
      "   [2 1 4]\n",
      "   [2 2 3]]\n",
      "\n",
      "  [[3 3 0]\n",
      "   [1 4 2]\n",
      "   [2 3 2]]\n",
      "\n",
      "  [[3 0 2]\n",
      "   [4 2 1]\n",
      "   [3 2 1]]\n",
      "\n",
      "  [[0 2 0]\n",
      "   [2 1 1]\n",
      "   [2 1 3]]\n",
      "\n",
      "  [[2 0 0]\n",
      "   [1 1 3]\n",
      "   [1 3 1]]]\n",
      "\n",
      "\n",
      " [[[0 1 0]\n",
      "   [0 1 4]\n",
      "   [2 4 0]]\n",
      "\n",
      "  [[1 0 2]\n",
      "   [1 4 2]\n",
      "   [4 0 1]]\n",
      "\n",
      "  [[0 2 1]\n",
      "   [4 2 2]\n",
      "   [0 1 1]]\n",
      "\n",
      "  [[2 1 4]\n",
      "   [2 2 3]\n",
      "   [1 1 1]]\n",
      "\n",
      "  [[1 4 2]\n",
      "   [2 3 2]\n",
      "   [1 1 2]]\n",
      "\n",
      "  [[4 2 1]\n",
      "   [3 2 1]\n",
      "   [1 2 1]]\n",
      "\n",
      "  [[2 1 1]\n",
      "   [2 1 3]\n",
      "   [2 1 2]]\n",
      "\n",
      "  [[1 1 3]\n",
      "   [1 3 1]\n",
      "   [1 2 0]]]\n",
      "\n",
      "\n",
      " [[[0 1 4]\n",
      "   [2 4 0]\n",
      "   [3 2 1]]\n",
      "\n",
      "  [[1 4 2]\n",
      "   [4 0 1]\n",
      "   [2 1 4]]\n",
      "\n",
      "  [[4 2 2]\n",
      "   [0 1 1]\n",
      "   [1 4 2]]\n",
      "\n",
      "  [[2 2 3]\n",
      "   [1 1 1]\n",
      "   [4 2 2]]\n",
      "\n",
      "  [[2 3 2]\n",
      "   [1 1 2]\n",
      "   [2 2 2]]\n",
      "\n",
      "  [[3 2 1]\n",
      "   [1 2 1]\n",
      "   [2 2 4]]\n",
      "\n",
      "  [[2 1 3]\n",
      "   [2 1 2]\n",
      "   [2 4 0]]\n",
      "\n",
      "  [[1 3 1]\n",
      "   [1 2 0]\n",
      "   [4 0 1]]]\n",
      "\n",
      "\n",
      " [[[2 4 0]\n",
      "   [3 2 1]\n",
      "   [1 4 3]]\n",
      "\n",
      "  [[4 0 1]\n",
      "   [2 1 4]\n",
      "   [4 3 2]]\n",
      "\n",
      "  [[0 1 1]\n",
      "   [1 4 2]\n",
      "   [3 2 4]]\n",
      "\n",
      "  [[1 1 1]\n",
      "   [4 2 2]\n",
      "   [2 4 1]]\n",
      "\n",
      "  [[1 1 2]\n",
      "   [2 2 2]\n",
      "   [4 1 1]]\n",
      "\n",
      "  [[1 2 1]\n",
      "   [2 2 4]\n",
      "   [1 1 2]]\n",
      "\n",
      "  [[2 1 2]\n",
      "   [2 4 0]\n",
      "   [1 2 4]]\n",
      "\n",
      "  [[1 2 0]\n",
      "   [4 0 1]\n",
      "   [2 4 0]]]\n",
      "\n",
      "\n",
      " [[[3 2 1]\n",
      "   [1 4 3]\n",
      "   [1 3 4]]\n",
      "\n",
      "  [[2 1 4]\n",
      "   [4 3 2]\n",
      "   [3 4 3]]\n",
      "\n",
      "  [[1 4 2]\n",
      "   [3 2 4]\n",
      "   [4 3 4]]\n",
      "\n",
      "  [[4 2 2]\n",
      "   [2 4 1]\n",
      "   [3 4 3]]\n",
      "\n",
      "  [[2 2 2]\n",
      "   [4 1 1]\n",
      "   [4 3 0]]\n",
      "\n",
      "  [[2 2 4]\n",
      "   [1 1 2]\n",
      "   [3 0 3]]\n",
      "\n",
      "  [[2 4 0]\n",
      "   [1 2 4]\n",
      "   [0 3 0]]\n",
      "\n",
      "  [[4 0 1]\n",
      "   [2 4 0]\n",
      "   [3 0 2]]]]\n"
     ]
    }
   ],
   "source": [
    "Z = np.random.randint(0,5,(10,10))\n",
    "n = 3\n",
    "i = 1 + (Z.shape[0]-3)\n",
    "j = 1 + (Z.shape[1]-3)\n",
    "C = stride_tricks.as_strided(Z, shape=(i, j, n, n), strides=Z.strides + Z.strides)\n",
    "print(C)"
   ]
  },
  {
   "cell_type": "markdown",
   "id": "a060dcc3",
   "metadata": {},
   "source": [
    "### 85. Create a 2D array subclass such that Z[i,j] == Z[j,i] (★★★)"
   ]
  },
  {
   "cell_type": "code",
   "execution_count": 181,
   "id": "ea68e4aa",
   "metadata": {},
   "outputs": [
    {
     "name": "stdout",
     "output_type": "stream",
     "text": [
      "[[ 6  5 11  8 15]\n",
      " [ 5  3 10 11 12]\n",
      " [11 10  7 42  2]\n",
      " [ 8 11 42  7  9]\n",
      " [15 12  2  9  7]]\n"
     ]
    }
   ],
   "source": [
    "class Symetric(np.ndarray):\n",
    "    def __setitem__(self, index, value):\n",
    "        i,j = index\n",
    "        super(Symetric, self).__setitem__((i,j), value)\n",
    "        super(Symetric, self).__setitem__((j,i), value)\n",
    "\n",
    "def symetric(Z):\n",
    "    return np.asarray(Z + Z.T - np.diag(Z.diagonal())).view(Symetric)\n",
    "\n",
    "S = symetric(np.random.randint(0,10,(5,5)))\n",
    "S[2,3] = 42\n",
    "print(S)"
   ]
  },
  {
   "cell_type": "markdown",
   "id": "c86521ba",
   "metadata": {},
   "source": [
    "### 86. Consider a set of p matrices wich shape (n,n) and a set of p vectors with shape (n,1). How to compute the sum of of the p matrix products at once? (result has shape (n,1)) (★★★)"
   ]
  },
  {
   "cell_type": "code",
   "execution_count": 182,
   "id": "fea67302",
   "metadata": {},
   "outputs": [
    {
     "name": "stdout",
     "output_type": "stream",
     "text": [
      "[[200.]\n",
      " [200.]\n",
      " [200.]\n",
      " [200.]\n",
      " [200.]\n",
      " [200.]\n",
      " [200.]\n",
      " [200.]\n",
      " [200.]\n",
      " [200.]\n",
      " [200.]\n",
      " [200.]\n",
      " [200.]\n",
      " [200.]\n",
      " [200.]\n",
      " [200.]\n",
      " [200.]\n",
      " [200.]\n",
      " [200.]\n",
      " [200.]]\n"
     ]
    }
   ],
   "source": [
    "p, n = 10, 20\n",
    "M = np.ones((p,n,n))\n",
    "V = np.ones((p,n,1))\n",
    "S = np.tensordot(M, V, axes=[[0, 2], [0, 1]])\n",
    "print(S)"
   ]
  },
  {
   "cell_type": "markdown",
   "id": "5046f1d1",
   "metadata": {},
   "source": [
    "### 87. Consider a 16x16 array, how to get the block-sum (block size is 4x4)? (★★★)"
   ]
  },
  {
   "cell_type": "code",
   "execution_count": 183,
   "id": "9b9116c4",
   "metadata": {},
   "outputs": [
    {
     "name": "stdout",
     "output_type": "stream",
     "text": [
      "[[16. 16. 16. 16.]\n",
      " [16. 16. 16. 16.]\n",
      " [16. 16. 16. 16.]\n",
      " [16. 16. 16. 16.]]\n"
     ]
    }
   ],
   "source": [
    "Z = np.ones((16,16))\n",
    "k = 4\n",
    "S = np.add.reduceat(np.add.reduceat(Z, np.arange(0, Z.shape[0], k), axis=0),\n",
    "                                       np.arange(0, Z.shape[1], k), axis=1)\n",
    "print(S)"
   ]
  },
  {
   "cell_type": "markdown",
   "id": "38b60302",
   "metadata": {},
   "source": [
    "### 88. How to implement the Game of Life using numpy arrays? (★★★)"
   ]
  },
  {
   "cell_type": "code",
   "execution_count": 184,
   "id": "e72a6c6e",
   "metadata": {},
   "outputs": [
    {
     "name": "stdout",
     "output_type": "stream",
     "text": [
      "[[0 0 0 ... 0 0 0]\n",
      " [0 0 0 ... 0 0 0]\n",
      " [0 0 0 ... 0 0 0]\n",
      " ...\n",
      " [0 0 0 ... 0 0 0]\n",
      " [0 0 0 ... 0 0 0]\n",
      " [0 0 0 ... 0 0 0]]\n"
     ]
    }
   ],
   "source": [
    "def iterate(Z):\n",
    "    # Count neighbours\n",
    "    N = (Z[0:-2,0:-2] + Z[0:-2,1:-1] + Z[0:-2,2:] +\n",
    "         Z[1:-1,0:-2]                + Z[1:-1,2:] +\n",
    "         Z[2:  ,0:-2] + Z[2:  ,1:-1] + Z[2:  ,2:])\n",
    "\n",
    "    # Apply rules\n",
    "    birth = (N==3) & (Z[1:-1,1:-1]==0)\n",
    "    survive = ((N==2) | (N==3)) & (Z[1:-1,1:-1]==1)\n",
    "    Z[...] = 0\n",
    "    Z[1:-1,1:-1][birth | survive] = 1\n",
    "    return Z\n",
    "\n",
    "Z = np.random.randint(0,2,(50,50))\n",
    "for i in range(100): Z = iterate(Z)\n",
    "print(Z)"
   ]
  },
  {
   "cell_type": "markdown",
   "id": "d1b9cc94",
   "metadata": {},
   "source": [
    "### 89. How to get the n largest values of an array (★★★)"
   ]
  },
  {
   "cell_type": "code",
   "execution_count": 185,
   "id": "6fc6deb8",
   "metadata": {},
   "outputs": [
    {
     "name": "stdout",
     "output_type": "stream",
     "text": [
      "[9995 9996 9997 9998 9999]\n",
      "[9996 9999 9998 9997 9995]\n"
     ]
    }
   ],
   "source": [
    "Z = np.arange(10000)\n",
    "np.random.shuffle(Z)\n",
    "n = 5\n",
    "\n",
    "# Slow\n",
    "print (Z[np.argsort(Z)[-n:]])\n",
    "\n",
    "# Fast\n",
    "print (Z[np.argpartition(-Z,n)[:n]])"
   ]
  },
  {
   "cell_type": "markdown",
   "id": "cb5e3a8d",
   "metadata": {},
   "source": [
    "### 90. Given an arbitrary number of vectors, build the cartesian product (every combinations of every item) (★★★)"
   ]
  },
  {
   "cell_type": "code",
   "execution_count": 186,
   "id": "624e60cd",
   "metadata": {},
   "outputs": [
    {
     "name": "stdout",
     "output_type": "stream",
     "text": [
      "[[1 4 6]\n",
      " [1 4 7]\n",
      " [1 5 6]\n",
      " [1 5 7]\n",
      " [2 4 6]\n",
      " [2 4 7]\n",
      " [2 5 6]\n",
      " [2 5 7]\n",
      " [3 4 6]\n",
      " [3 4 7]\n",
      " [3 5 6]\n",
      " [3 5 7]]\n"
     ]
    }
   ],
   "source": [
    "def cartesian(arrays):\n",
    "    arrays = [np.asarray(a) for a in arrays]\n",
    "    shape = (len(x) for x in arrays)\n",
    "\n",
    "    ix = np.indices(shape, dtype=int)\n",
    "    ix = ix.reshape(len(arrays), -1).T\n",
    "\n",
    "    for n, arr in enumerate(arrays):\n",
    "        ix[:, n] = arrays[n][ix[:, n]]\n",
    "\n",
    "    return ix\n",
    "\n",
    "print (cartesian(([1, 2, 3], [4, 5], [6, 7])))"
   ]
  },
  {
   "cell_type": "markdown",
   "id": "15395016",
   "metadata": {},
   "source": [
    "### 91. How to create a record array from a regular array? (★★★)"
   ]
  },
  {
   "cell_type": "code",
   "execution_count": 187,
   "id": "120d772c",
   "metadata": {},
   "outputs": [
    {
     "name": "stdout",
     "output_type": "stream",
     "text": [
      "[(b'Hello', 2.5, 3) (b'World', 3.6, 2)]\n"
     ]
    }
   ],
   "source": [
    "Z = np.array([(\"Hello\", 2.5, 3),\n",
    "              (\"World\", 3.6, 2)])\n",
    "R = np.core.records.fromarrays(Z.T, \n",
    "                               names='col1, col2, col3',\n",
    "                               formats = 'S8, f8, i8')\n",
    "print(R)"
   ]
  },
  {
   "cell_type": "markdown",
   "id": "c78d3b41",
   "metadata": {},
   "source": [
    "### 92. Consider a large vector Z, compute Z to the power of 3 using 3 different methods (★★★)"
   ]
  },
  {
   "cell_type": "code",
   "execution_count": 188,
   "id": "eaf9bbe4",
   "metadata": {},
   "outputs": [
    {
     "name": "stdout",
     "output_type": "stream",
     "text": [
      "5.27 µs ± 992 ns per loop (mean ± std. dev. of 7 runs, 100,000 loops each)\n",
      "2.17 µs ± 134 ns per loop (mean ± std. dev. of 7 runs, 100,000 loops each)\n",
      "6.14 µs ± 847 ns per loop (mean ± std. dev. of 7 runs, 100,000 loops each)\n"
     ]
    }
   ],
   "source": [
    "x = np.random.rand(5)\n",
    "\n",
    "%timeit np.power(x,3)\n",
    "%timeit x*x*x\n",
    "%timeit np.einsum('i,i,i->i',x,x,x)"
   ]
  },
  {
   "cell_type": "markdown",
   "id": "c972fb1a",
   "metadata": {},
   "source": [
    "### 93. Consider two arrays A and B of shape (8,3) and (2,2). How to find rows of A that contain elements of each row of B regardless of the order of the elements in B? (★★★)"
   ]
  },
  {
   "cell_type": "code",
   "execution_count": 189,
   "id": "2b8da602",
   "metadata": {},
   "outputs": [
    {
     "name": "stdout",
     "output_type": "stream",
     "text": [
      "[1 2 4 6]\n"
     ]
    }
   ],
   "source": [
    "A = np.random.randint(0,5,(8,3))\n",
    "B = np.random.randint(0,5,(2,2))\n",
    "\n",
    "C = (A[..., np.newaxis, np.newaxis] == B)\n",
    "rows = np.where(C.any((3,1)).all(1))[0]\n",
    "print(rows)"
   ]
  },
  {
   "cell_type": "markdown",
   "id": "d704509b",
   "metadata": {},
   "source": [
    "### 94. Considering a 10x3 matrix, extract rows with unequal values (e.g. [2,2,3]) (★★★)"
   ]
  },
  {
   "cell_type": "code",
   "execution_count": 190,
   "id": "c674ad50",
   "metadata": {},
   "outputs": [
    {
     "name": "stdout",
     "output_type": "stream",
     "text": [
      "[[0 1 4]\n",
      " [4 4 2]\n",
      " [4 3 4]\n",
      " [1 0 3]\n",
      " [0 2 2]\n",
      " [3 2 2]\n",
      " [1 3 0]\n",
      " [1 1 1]\n",
      " [4 0 0]\n",
      " [4 4 1]]\n",
      "[[0 1 4]\n",
      " [4 4 2]\n",
      " [4 3 4]\n",
      " [1 0 3]\n",
      " [0 2 2]\n",
      " [3 2 2]\n",
      " [1 3 0]\n",
      " [4 0 0]\n",
      " [4 4 1]]\n",
      "[[0 1 4]\n",
      " [4 4 2]\n",
      " [4 3 4]\n",
      " [1 0 3]\n",
      " [0 2 2]\n",
      " [3 2 2]\n",
      " [1 3 0]\n",
      " [4 0 0]\n",
      " [4 4 1]]\n"
     ]
    }
   ],
   "source": [
    "Z = np.random.randint(0,5,(10,3))\n",
    "print(Z)\n",
    "# solution for arrays of all dtypes (including string arrays and record arrays)\n",
    "E = np.all(Z[:,1:] == Z[:,:-1], axis=1)\n",
    "U = Z[~E]\n",
    "print(U)\n",
    "# soluiton for numerical arrays only, will work for any number of columns in Z\n",
    "U = Z[Z.max(axis=1) != Z.min(axis=1),:]\n",
    "print(U)"
   ]
  },
  {
   "cell_type": "markdown",
   "id": "904d90fa",
   "metadata": {},
   "source": [
    "### 95. Convert a vector of ints into a matrix binary representation (★★★)"
   ]
  },
  {
   "cell_type": "code",
   "execution_count": 191,
   "id": "61cad8ee",
   "metadata": {},
   "outputs": [
    {
     "name": "stdout",
     "output_type": "stream",
     "text": [
      "[[0 0 0 0 0 0 0 0]\n",
      " [0 0 0 0 0 0 0 1]\n",
      " [0 0 0 0 0 0 1 0]\n",
      " [0 0 0 0 0 0 1 1]\n",
      " [0 0 0 0 1 1 1 1]\n",
      " [0 0 0 1 0 0 0 0]\n",
      " [0 0 1 0 0 0 0 0]\n",
      " [0 1 0 0 0 0 0 0]\n",
      " [1 0 0 0 0 0 0 0]]\n",
      "[[0 0 0 0 0 0 0 0]\n",
      " [0 0 0 0 0 0 0 1]\n",
      " [0 0 0 0 0 0 1 0]\n",
      " [0 0 0 0 0 0 1 1]\n",
      " [0 0 0 0 1 1 1 1]\n",
      " [0 0 0 1 0 0 0 0]\n",
      " [0 0 1 0 0 0 0 0]\n",
      " [0 1 0 0 0 0 0 0]\n",
      " [1 0 0 0 0 0 0 0]]\n"
     ]
    }
   ],
   "source": [
    "I = np.array([0, 1, 2, 3, 15, 16, 32, 64, 128])\n",
    "B = ((I.reshape(-1,1) & (2**np.arange(8))) != 0).astype(int)\n",
    "print(B[:,::-1])\n",
    "\n",
    "# Author: Daniel T. McDonald\n",
    "\n",
    "I = np.array([0, 1, 2, 3, 15, 16, 32, 64, 128], dtype=np.uint8)\n",
    "print(np.unpackbits(I[:, np.newaxis], axis=1))"
   ]
  },
  {
   "cell_type": "markdown",
   "id": "fc41bd3c",
   "metadata": {},
   "source": [
    "### 96. Given a two dimensional array, how to extract unique rows? (★★★)"
   ]
  },
  {
   "cell_type": "code",
   "execution_count": 192,
   "id": "50391490",
   "metadata": {},
   "outputs": [
    {
     "name": "stdout",
     "output_type": "stream",
     "text": [
      "[[0 0 0]\n",
      " [1 0 0]\n",
      " [1 1 0]\n",
      " [1 1 1]]\n"
     ]
    }
   ],
   "source": [
    "Z = np.random.randint(0,2,(6,3))\n",
    "T = np.ascontiguousarray(Z).view(np.dtype((np.void, Z.dtype.itemsize * Z.shape[1])))\n",
    "_, idx = np.unique(T, return_index=True)\n",
    "uZ = Z[idx]\n",
    "print(uZ)"
   ]
  },
  {
   "cell_type": "markdown",
   "id": "c2e0dc51",
   "metadata": {},
   "source": [
    "### 97. Considering 2 vectors A & B, write the einsum equivalent of inner, outer, sum, and mul function (★★★)"
   ]
  },
  {
   "cell_type": "code",
   "execution_count": 193,
   "id": "eabda015",
   "metadata": {},
   "outputs": [
    {
     "data": {
      "text/plain": [
       "array([[0.09153898, 0.0019619 , 0.00633981, 0.01060795, 0.05141779,\n",
       "        0.0605813 , 0.09710508, 0.07511784, 0.02154961, 0.08019255],\n",
       "       [0.08120873, 0.0017405 , 0.00562436, 0.00941083, 0.04561525,\n",
       "        0.05374466, 0.08614669, 0.06664073, 0.01911772, 0.07114276],\n",
       "       [0.55268085, 0.01184527, 0.03827758, 0.06404714, 0.31044293,\n",
       "        0.36576908, 0.58628706, 0.45353569, 0.13010911, 0.48417506],\n",
       "       [0.59859624, 0.01282935, 0.04145759, 0.06936803, 0.33623378,\n",
       "        0.39615629, 0.63499438, 0.49121434, 0.14091826, 0.52439916],\n",
       "       [0.5645862 , 0.01210043, 0.03910212, 0.06542679, 0.31713021,\n",
       "        0.37364814, 0.59891632, 0.46330534, 0.1329118 , 0.49460472],\n",
       "       [0.58801102, 0.01260248, 0.04072448, 0.06814136, 0.33028802,\n",
       "        0.3891509 , 0.62376551, 0.482528  , 0.13842635, 0.51512599],\n",
       "       [0.73439051, 0.01573974, 0.05086244, 0.08510448, 0.41250994,\n",
       "        0.48602614, 0.77904573, 0.60264854, 0.17288621, 0.64336148],\n",
       "       [0.59990943, 0.01285749, 0.04154854, 0.0695202 , 0.33697141,\n",
       "        0.39702537, 0.63638742, 0.49229196, 0.1412274 , 0.52554958],\n",
       "       [0.5545937 , 0.01188627, 0.03841006, 0.06426881, 0.31151739,\n",
       "        0.36703502, 0.58831622, 0.4551054 , 0.13055942, 0.48585081],\n",
       "       [0.6432247 , 0.01378584, 0.04454847, 0.07453977, 0.36130176,\n",
       "        0.4256918 , 0.68233651, 0.52783692, 0.15142445, 0.56349584]])"
      ]
     },
     "execution_count": 193,
     "metadata": {},
     "output_type": "execute_result"
    }
   ],
   "source": [
    "A = np.random.uniform(0,1,10)\n",
    "B = np.random.uniform(0,1,10)\n",
    "\n",
    "np.einsum('i->', A)       # np.sum(A)\n",
    "np.einsum('i,i->i', A, B) # A * B\n",
    "np.einsum('i,i', A, B)    # np.inner(A, B)\n",
    "np.einsum('i,j->ij', A, B)    # np.outer(A, B)"
   ]
  },
  {
   "cell_type": "markdown",
   "id": "80fb2a7a",
   "metadata": {},
   "source": [
    "### 98. Considering a path described by two vectors (X,Y), how to sample it using equidistant samples (★★★)?"
   ]
  },
  {
   "cell_type": "code",
   "execution_count": 194,
   "id": "9132ff29",
   "metadata": {},
   "outputs": [],
   "source": [
    "phi = np.arange(0, 10*np.pi, 0.1)\n",
    "a = 1\n",
    "x = a*phi*np.cos(phi)\n",
    "y = a*phi*np.sin(phi)\n",
    "\n",
    "dr = (np.diff(x)**2 + np.diff(y)**2)**.5 # segment lengths\n",
    "r = np.zeros_like(x)\n",
    "r[1:] = np.cumsum(dr)                # integrate path\n",
    "r_int = np.linspace(0, r.max(), 200) # regular spaced path\n",
    "x_int = np.interp(r_int, r, x)       # integrate path\n",
    "y_int = np.interp(r_int, r, y)"
   ]
  },
  {
   "cell_type": "markdown",
   "id": "28fb438b",
   "metadata": {},
   "source": [
    "### 99. Given an integer n and a 2D array X, select from X the rows which can be interpreted as draws from a multinomial distribution with n degrees, i.e., the rows which only contain integers and which sum to n. (★★★)"
   ]
  },
  {
   "cell_type": "code",
   "execution_count": 195,
   "id": "93cca337",
   "metadata": {},
   "outputs": [
    {
     "name": "stdout",
     "output_type": "stream",
     "text": [
      "[[2. 0. 1. 1.]]\n"
     ]
    }
   ],
   "source": [
    "X = np.asarray([[1.0, 0.0, 3.0, 8.0],\n",
    "                [2.0, 0.0, 1.0, 1.0],\n",
    "                [1.5, 2.5, 1.0, 0.0]])\n",
    "n = 4\n",
    "M = np.logical_and.reduce(np.mod(X, 1) == 0, axis=-1)\n",
    "M &= (X.sum(axis=-1) == n)\n",
    "print(X[M])"
   ]
  },
  {
   "cell_type": "markdown",
   "id": "0de7e28b",
   "metadata": {},
   "source": [
    "### 100. Compute bootstrapped 95% confidence intervals for the mean of a 1D array X (i.e., resample the elements of an array with replacement N times, compute the mean of each sample, and then compute percentiles over the means). (★★★)"
   ]
  },
  {
   "cell_type": "code",
   "execution_count": 196,
   "id": "d5cf95aa",
   "metadata": {},
   "outputs": [
    {
     "name": "stdout",
     "output_type": "stream",
     "text": [
      "[-0.05842507  0.35154784]\n"
     ]
    }
   ],
   "source": [
    "X = np.random.randn(100) # random 1D array\n",
    "N = 1000 # number of bootstrap samples\n",
    "idx = np.random.randint(0, X.size, (N, X.size))\n",
    "means = X[idx].mean(axis=1)\n",
    "confint = np.percentile(means, [2.5, 97.5])\n",
    "print(confint)"
   ]
  }
 ],
 "metadata": {
  "kernelspec": {
   "display_name": "Python 3 (ipykernel)",
   "language": "python",
   "name": "python3"
  },
  "language_info": {
   "codemirror_mode": {
    "name": "ipython",
    "version": 3
   },
   "file_extension": ".py",
   "mimetype": "text/x-python",
   "name": "python",
   "nbconvert_exporter": "python",
   "pygments_lexer": "ipython3",
   "version": "3.11.4"
  }
 },
 "nbformat": 4,
 "nbformat_minor": 5
}
