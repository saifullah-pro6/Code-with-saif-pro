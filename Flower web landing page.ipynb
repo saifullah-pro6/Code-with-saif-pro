{
 "cells": [
  {
   "cell_type": "markdown",
   "id": "8f258d46",
   "metadata": {},
   "source": [
    "<img src=\"happy people with flower logo template.png\" style=\"position: absolute; top: 0; left: 0; width: 100px; height: 100px;\">\n",
    "\n",
    " #  **FLOWER** \n",
    "\n"
   ]
  },
  {
   "cell_type": "markdown",
   "id": "dc43b3ad",
   "metadata": {},
   "source": [
    "###### same day delivery  |  Birthday flower    |  Gift Hamper    |New Arrivals"
   ]
  },
  {
   "cell_type": "markdown",
   "id": "536de236",
   "metadata": {},
   "source": [
    "<img src=\"flower 7.jpg\" style=\"display: block; margin: 0 auto; width: 1000px; height: 400px;\">"
   ]
  },
  {
   "cell_type": "markdown",
   "id": "14ce5513",
   "metadata": {},
   "source": [
    "## Hand-delivered Across Pakistan"
   ]
  },
  {
   "cell_type": "markdown",
   "id": "0432d01b",
   "metadata": {},
   "source": [
    "1. Usa\n",
    "2. Uk\n",
    "3. Chaina\n",
    "4. Germany"
   ]
  },
  {
   "cell_type": "markdown",
   "id": "2851dafa",
   "metadata": {},
   "source": [
    "### Grand Moments\n",
    "Adding love & beauty to every occasion"
   ]
  },
  {
   "cell_type": "markdown",
   "id": "33be3e0f",
   "metadata": {},
   "source": [
    "<img src=\"flower 8.jpg\" style=\"position: left; margin: 0 ; width: 400px; height: 200px;\"> <img src=\"flower 9.jpg\" style=\"position: right; margin: 20 ; width: 400px; height: 200px;\">"
   ]
  },
  {
   "cell_type": "markdown",
   "id": "26de978a",
   "metadata": {},
   "source": [
    "<img src=\"frank-zhang-KIE5A_tFeCs-unsplash.jpg\" style=\"position: left; margin: 0 ; width: 400px; height: 200px;\">\n",
    "<img src=\"anthony-delanoix-urUdKCxsTUI-unsplash.jpg\" style=\"position: right; margin: 20 ; width: 400px; height: 200px;\">"
   ]
  },
  {
   "cell_type": "markdown",
   "id": "22198fec",
   "metadata": {},
   "source": [
    "## Our Products"
   ]
  },
  {
   "cell_type": "markdown",
   "id": "c699641b",
   "metadata": {},
   "source": [
    "<img src=\"flower 1.jpg\" style=\"position: left; margin: 0 ; width: 400px; height: 400px;\">\n",
    "\n",
    "**PKR  8000**"
   ]
  },
  {
   "cell_type": "markdown",
   "id": "7c876c4f",
   "metadata": {},
   "source": [
    "<img src=\"flower 2.jpg\" style=\"position: right; margin: 0 ; width: 400px; height: 400px;\">\n",
    "\n",
    "**PKR  15000**"
   ]
  },
  {
   "cell_type": "markdown",
   "id": "f7d43881",
   "metadata": {},
   "source": [
    "<img src=\"flower 3.jpg\" style=\"position: left; margin: 0 ; width: 400px; height: 400px;\">\n",
    "\n",
    "**PKR  10000**"
   ]
  },
  {
   "cell_type": "markdown",
   "id": "b9e96422",
   "metadata": {},
   "source": [
    "<img src=\"flower 4.jpg\" style=\"position: right; margin: 0 ; width: 400px; height: 400px;\">\n",
    "\n",
    "**PKR  13000**"
   ]
  },
  {
   "cell_type": "markdown",
   "id": "1a297d6d",
   "metadata": {},
   "source": [
    "<img src=\"flower 5.jpg\" style=\"position: left; margin: 0 ; width: 400px; height: 400px;\">\n",
    "\n",
    "**PKR  11000**"
   ]
  },
  {
   "cell_type": "markdown",
   "id": "af898a6b",
   "metadata": {},
   "source": [
    "<img src=\"flower 6.jpg\" style=\"position: right; margin: 0 ; width: 400px; height: 400px;\">\n",
    "\n",
    "**PKR  5000**"
   ]
  },
  {
   "cell_type": "markdown",
   "id": "b1c2d234",
   "metadata": {},
   "source": [
    "\n",
    "\n",
    "#### Online Flowers Delivery with #1 Online Flowers shop  in Pakistan\n",
    "Since time immemorial, flowers have intrigued people of all eras with their stunning beauty and enticing scents. These exquisite gifts of nature possess unbelievable characteristics, some unknown yet, even just hints of them can be ridiculously attractive. Flowers have the ability to even speak a poetry without saying a word, and thus have made an integral part of human communications since forever. At flower Pakistan, we focus on speaking those very words in the plushest of exclusive floral arrangements infused with the intention to create iconic experiences for the receivers.\n",
    "\n",
    "With roots firm in the heritage of the century-old business of delighting millions the world over with flowers, flowers company esteemed clientele only expect and receive the very best from the world of flowers. Our floral recipes include a variety of exotic flowers from across the world, sourced from any corner, at any pain, for the pleasure of our prestigious clients. Every one of our flower arrangements is carefully put together with much love, care and skilled craftsmanship making it a piece of floral art few gifts of this world can match up to. Pick from our pre-curated, stunning floral gift hampers made to suit the different kinds of personalities of receivers. Our range go from our best seller, elegant hand-tied roses bouquet in luxury tissue to glamorous hampers that combine several romantic arrangements and high-end, organic treats."
   ]
  },
  {
   "cell_type": "markdown",
   "id": "0fcf55b7",
   "metadata": {},
   "source": [
    "<img src=\"happy people with flower logo template.png\" alt=\"My Picture 1\" float=\"left;\" margin-left=\"0px;\" height=\"300 px;\" width=\"200 px;\"> "
   ]
  },
  {
   "cell_type": "markdown",
   "id": "364e4a99",
   "metadata": {},
   "source": [
    "**Contact us:** 030001234560 "
   ]
  }
 ],
 "metadata": {
  "kernelspec": {
   "display_name": "Python 3 (ipykernel)",
   "language": "python",
   "name": "python3"
  },
  "language_info": {
   "codemirror_mode": {
    "name": "ipython",
    "version": 3
   },
   "file_extension": ".py",
   "mimetype": "text/x-python",
   "name": "python",
   "nbconvert_exporter": "python",
   "pygments_lexer": "ipython3",
   "version": "3.11.5"
  }
 },
 "nbformat": 4,
 "nbformat_minor": 5
}
